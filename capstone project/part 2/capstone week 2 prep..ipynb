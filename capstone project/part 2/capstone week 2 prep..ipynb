{
 "cells": [
  {
   "cell_type": "code",
   "execution_count": 925,
   "metadata": {},
   "outputs": [],
   "source": [
    "import numpy as np\n",
    "import pandas as pd\n",
    "import matplotlib.pyplot as plt\n",
    "import seaborn as sns"
   ]
  },
  {
   "cell_type": "code",
   "execution_count": 926,
   "metadata": {},
   "outputs": [],
   "source": [
    "df = pd.read_csv('capstone_refined.csv')"
   ]
  },
  {
   "cell_type": "code",
   "execution_count": 927,
   "metadata": {},
   "outputs": [
    {
     "data": {
      "text/html": [
       "<div>\n",
       "<style scoped>\n",
       "    .dataframe tbody tr th:only-of-type {\n",
       "        vertical-align: middle;\n",
       "    }\n",
       "\n",
       "    .dataframe tbody tr th {\n",
       "        vertical-align: top;\n",
       "    }\n",
       "\n",
       "    .dataframe thead th {\n",
       "        text-align: right;\n",
       "    }\n",
       "</style>\n",
       "<table border=\"1\" class=\"dataframe\">\n",
       "  <thead>\n",
       "    <tr style=\"text-align: right;\">\n",
       "      <th></th>\n",
       "      <th>UserID</th>\n",
       "      <th>Taken_product</th>\n",
       "      <th>Yearly_avg_view_on_travel_page</th>\n",
       "      <th>preferred_device</th>\n",
       "      <th>total_likes_on_outstation_checkin_given</th>\n",
       "      <th>yearly_avg_Outstation_checkins</th>\n",
       "      <th>member_in_family</th>\n",
       "      <th>preferred_location_type</th>\n",
       "      <th>Yearly_avg_comment_on_travel_page</th>\n",
       "      <th>total_likes_on_outofstation_checkin_received</th>\n",
       "      <th>week_since_last_outstation_checkin</th>\n",
       "      <th>following_company_page</th>\n",
       "      <th>montly_avg_comment_on_company_page</th>\n",
       "      <th>working_flag</th>\n",
       "      <th>travelling_network_rating</th>\n",
       "      <th>Adult_flag</th>\n",
       "      <th>Daily_Avg_mins_spend_on_traveling_page</th>\n",
       "    </tr>\n",
       "  </thead>\n",
       "  <tbody>\n",
       "    <tr>\n",
       "      <th>0</th>\n",
       "      <td>1000001</td>\n",
       "      <td>Yes</td>\n",
       "      <td>307</td>\n",
       "      <td>iOS and Android</td>\n",
       "      <td>38570</td>\n",
       "      <td>1</td>\n",
       "      <td>2</td>\n",
       "      <td>Financial</td>\n",
       "      <td>94</td>\n",
       "      <td>5993</td>\n",
       "      <td>8</td>\n",
       "      <td>Yes</td>\n",
       "      <td>11</td>\n",
       "      <td>No</td>\n",
       "      <td>1</td>\n",
       "      <td>0</td>\n",
       "      <td>8</td>\n",
       "    </tr>\n",
       "    <tr>\n",
       "      <th>1</th>\n",
       "      <td>1000002</td>\n",
       "      <td>No</td>\n",
       "      <td>367</td>\n",
       "      <td>iOS</td>\n",
       "      <td>9765</td>\n",
       "      <td>1</td>\n",
       "      <td>1</td>\n",
       "      <td>Financial</td>\n",
       "      <td>61</td>\n",
       "      <td>5130</td>\n",
       "      <td>1</td>\n",
       "      <td>No</td>\n",
       "      <td>23</td>\n",
       "      <td>Yes</td>\n",
       "      <td>4</td>\n",
       "      <td>1</td>\n",
       "      <td>10</td>\n",
       "    </tr>\n",
       "    <tr>\n",
       "      <th>2</th>\n",
       "      <td>1000003</td>\n",
       "      <td>Yes</td>\n",
       "      <td>277</td>\n",
       "      <td>iOS and Android</td>\n",
       "      <td>48055</td>\n",
       "      <td>1</td>\n",
       "      <td>2</td>\n",
       "      <td>Other</td>\n",
       "      <td>92</td>\n",
       "      <td>2090</td>\n",
       "      <td>6</td>\n",
       "      <td>Yes</td>\n",
       "      <td>15</td>\n",
       "      <td>No</td>\n",
       "      <td>2</td>\n",
       "      <td>0</td>\n",
       "      <td>7</td>\n",
       "    </tr>\n",
       "    <tr>\n",
       "      <th>3</th>\n",
       "      <td>1000004</td>\n",
       "      <td>No</td>\n",
       "      <td>247</td>\n",
       "      <td>iOS</td>\n",
       "      <td>48720</td>\n",
       "      <td>1</td>\n",
       "      <td>4</td>\n",
       "      <td>Financial</td>\n",
       "      <td>56</td>\n",
       "      <td>2909</td>\n",
       "      <td>1</td>\n",
       "      <td>Yes</td>\n",
       "      <td>11</td>\n",
       "      <td>No</td>\n",
       "      <td>3</td>\n",
       "      <td>0</td>\n",
       "      <td>8</td>\n",
       "    </tr>\n",
       "    <tr>\n",
       "      <th>4</th>\n",
       "      <td>1000005</td>\n",
       "      <td>No</td>\n",
       "      <td>202</td>\n",
       "      <td>iOS and Android</td>\n",
       "      <td>20685</td>\n",
       "      <td>1</td>\n",
       "      <td>1</td>\n",
       "      <td>Medical</td>\n",
       "      <td>40</td>\n",
       "      <td>3468</td>\n",
       "      <td>9</td>\n",
       "      <td>No</td>\n",
       "      <td>12</td>\n",
       "      <td>No</td>\n",
       "      <td>4</td>\n",
       "      <td>1</td>\n",
       "      <td>6</td>\n",
       "    </tr>\n",
       "  </tbody>\n",
       "</table>\n",
       "</div>"
      ],
      "text/plain": [
       "    UserID Taken_product  Yearly_avg_view_on_travel_page preferred_device  \\\n",
       "0  1000001           Yes                             307  iOS and Android   \n",
       "1  1000002            No                             367              iOS   \n",
       "2  1000003           Yes                             277  iOS and Android   \n",
       "3  1000004            No                             247              iOS   \n",
       "4  1000005            No                             202  iOS and Android   \n",
       "\n",
       "   total_likes_on_outstation_checkin_given yearly_avg_Outstation_checkins  \\\n",
       "0                                    38570                              1   \n",
       "1                                     9765                              1   \n",
       "2                                    48055                              1   \n",
       "3                                    48720                              1   \n",
       "4                                    20685                              1   \n",
       "\n",
       "   member_in_family preferred_location_type  \\\n",
       "0                 2               Financial   \n",
       "1                 1               Financial   \n",
       "2                 2                   Other   \n",
       "3                 4               Financial   \n",
       "4                 1                 Medical   \n",
       "\n",
       "   Yearly_avg_comment_on_travel_page  \\\n",
       "0                                 94   \n",
       "1                                 61   \n",
       "2                                 92   \n",
       "3                                 56   \n",
       "4                                 40   \n",
       "\n",
       "   total_likes_on_outofstation_checkin_received  \\\n",
       "0                                          5993   \n",
       "1                                          5130   \n",
       "2                                          2090   \n",
       "3                                          2909   \n",
       "4                                          3468   \n",
       "\n",
       "   week_since_last_outstation_checkin following_company_page  \\\n",
       "0                                   8                    Yes   \n",
       "1                                   1                     No   \n",
       "2                                   6                    Yes   \n",
       "3                                   1                    Yes   \n",
       "4                                   9                     No   \n",
       "\n",
       "   montly_avg_comment_on_company_page working_flag  travelling_network_rating  \\\n",
       "0                                  11           No                          1   \n",
       "1                                  23          Yes                          4   \n",
       "2                                  15           No                          2   \n",
       "3                                  11           No                          3   \n",
       "4                                  12           No                          4   \n",
       "\n",
       "   Adult_flag  Daily_Avg_mins_spend_on_traveling_page  \n",
       "0           0                                       8  \n",
       "1           1                                      10  \n",
       "2           0                                       7  \n",
       "3           0                                       8  \n",
       "4           1                                       6  "
      ]
     },
     "execution_count": 927,
     "metadata": {},
     "output_type": "execute_result"
    }
   ],
   "source": [
    "df.head()"
   ]
  },
  {
   "cell_type": "code",
   "execution_count": 928,
   "metadata": {},
   "outputs": [],
   "source": [
    "df.drop(\"UserID\",axis=1 , inplace=True)"
   ]
  },
  {
   "cell_type": "code",
   "execution_count": null,
   "metadata": {},
   "outputs": [],
   "source": []
  },
  {
   "cell_type": "code",
   "execution_count": null,
   "metadata": {},
   "outputs": [],
   "source": []
  },
  {
   "cell_type": "code",
   "execution_count": null,
   "metadata": {},
   "outputs": [],
   "source": [
    "\n"
   ]
  },
  {
   "cell_type": "code",
   "execution_count": null,
   "metadata": {},
   "outputs": [],
   "source": []
  },
  {
   "cell_type": "code",
   "execution_count": null,
   "metadata": {},
   "outputs": [],
   "source": []
  },
  {
   "cell_type": "code",
   "execution_count": 929,
   "metadata": {},
   "outputs": [
    {
     "name": "stdout",
     "output_type": "stream",
     "text": [
      "<class 'pandas.core.frame.DataFrame'>\n",
      "RangeIndex: 10456 entries, 0 to 10455\n",
      "Data columns (total 16 columns):\n",
      " #   Column                                        Non-Null Count  Dtype \n",
      "---  ------                                        --------------  ----- \n",
      " 0   Taken_product                                 10456 non-null  object\n",
      " 1   Yearly_avg_view_on_travel_page                10456 non-null  int64 \n",
      " 2   preferred_device                              10456 non-null  object\n",
      " 3   total_likes_on_outstation_checkin_given       10456 non-null  int64 \n",
      " 4   yearly_avg_Outstation_checkins                10456 non-null  object\n",
      " 5   member_in_family                              10456 non-null  int64 \n",
      " 6   preferred_location_type                       10456 non-null  object\n",
      " 7   Yearly_avg_comment_on_travel_page             10456 non-null  int64 \n",
      " 8   total_likes_on_outofstation_checkin_received  10456 non-null  int64 \n",
      " 9   week_since_last_outstation_checkin            10456 non-null  int64 \n",
      " 10  following_company_page                        10456 non-null  object\n",
      " 11  montly_avg_comment_on_company_page            10456 non-null  int64 \n",
      " 12  working_flag                                  10456 non-null  object\n",
      " 13  travelling_network_rating                     10456 non-null  int64 \n",
      " 14  Adult_flag                                    10456 non-null  int64 \n",
      " 15  Daily_Avg_mins_spend_on_traveling_page        10456 non-null  int64 \n",
      "dtypes: int64(10), object(6)\n",
      "memory usage: 1.3+ MB\n"
     ]
    }
   ],
   "source": [
    "df.info()"
   ]
  },
  {
   "cell_type": "markdown",
   "metadata": {},
   "source": [
    "# encoding"
   ]
  },
  {
   "cell_type": "markdown",
   "metadata": {},
   "source": [
    "## categorical variables"
   ]
  },
  {
   "cell_type": "markdown",
   "metadata": {},
   "source": [
    "### Taken_product"
   ]
  },
  {
   "cell_type": "code",
   "execution_count": 930,
   "metadata": {},
   "outputs": [],
   "source": [
    "df.Taken_product = df.Taken_product.replace('Yes','1')\n",
    "df.Taken_product = df.Taken_product.replace('No','0')"
   ]
  },
  {
   "cell_type": "code",
   "execution_count": 931,
   "metadata": {},
   "outputs": [
    {
     "data": {
      "text/plain": [
       "0    8763\n",
       "1    1693\n",
       "Name: Taken_product, dtype: int64"
      ]
     },
     "execution_count": 931,
     "metadata": {},
     "output_type": "execute_result"
    }
   ],
   "source": [
    "df.Taken_product.value_counts()"
   ]
  },
  {
   "cell_type": "markdown",
   "metadata": {},
   "source": [
    "### preferred_device"
   ]
  },
  {
   "cell_type": "code",
   "execution_count": 932,
   "metadata": {},
   "outputs": [],
   "source": [
    "df.preferred_device = df.preferred_device.replace('Tab','0')\n",
    "df.preferred_device = df.preferred_device.replace('iOS and Android','1')\n",
    "df.preferred_device = df.preferred_device.replace('Laptop','2')\n",
    "df.preferred_device = df.preferred_device.replace('iOS','3')\n",
    "df.preferred_device = df.preferred_device.replace('Mobile','4')\n",
    "df.preferred_device = df.preferred_device.replace('Android','5')\n",
    "df.preferred_device = df.preferred_device.replace('Other','6')"
   ]
  },
  {
   "cell_type": "code",
   "execution_count": 933,
   "metadata": {},
   "outputs": [
    {
     "data": {
      "text/plain": [
       "0    4172\n",
       "1    3247\n",
       "2    1108\n",
       "3     859\n",
       "4     600\n",
       "5     467\n",
       "6       3\n",
       "Name: preferred_device, dtype: int64"
      ]
     },
     "execution_count": 933,
     "metadata": {},
     "output_type": "execute_result"
    }
   ],
   "source": [
    "df.preferred_device.value_counts()"
   ]
  },
  {
   "cell_type": "markdown",
   "metadata": {},
   "source": [
    "### preferred_location_type"
   ]
  },
  {
   "cell_type": "code",
   "execution_count": 934,
   "metadata": {},
   "outputs": [],
   "source": [
    "df.preferred_location_type = df.preferred_location_type.replace('Financial','0')\n",
    "df.preferred_location_type = df.preferred_location_type.replace('Other','1')\n",
    "df.preferred_location_type = df.preferred_location_type.replace('Medical','2')\n",
    "df.preferred_location_type = df.preferred_location_type.replace('Game','3')\n",
    "df.preferred_location_type = df.preferred_location_type.replace('Entertainment','4')\n",
    "df.preferred_location_type = df.preferred_location_type.replace('Social media','5')\n",
    "df.preferred_location_type = df.preferred_location_type.replace('Tour  Travel','6')\n",
    "df.preferred_location_type = df.preferred_location_type.replace('Beach','7')\n",
    "df.preferred_location_type = df.preferred_location_type.replace('Historical site','8')\n",
    "df.preferred_location_type = df.preferred_location_type.replace('Big Cities','9')\n",
    "df.preferred_location_type = df.preferred_location_type.replace('Trekking','10')\n",
    "df.preferred_location_type = df.preferred_location_type.replace('Hill Stations','11')"
   ]
  },
  {
   "cell_type": "code",
   "execution_count": 935,
   "metadata": {},
   "outputs": [
    {
     "data": {
      "text/plain": [
       "7     2424\n",
       "0     1876\n",
       "8     1856\n",
       "2     1448\n",
       "9      636\n",
       "1      591\n",
       "10     528\n",
       "5      506\n",
       "4      383\n",
       "11     108\n",
       "6       90\n",
       "3       10\n",
       "Name: preferred_location_type, dtype: int64"
      ]
     },
     "execution_count": 935,
     "metadata": {},
     "output_type": "execute_result"
    }
   ],
   "source": [
    "df.preferred_location_type.value_counts()"
   ]
  },
  {
   "cell_type": "markdown",
   "metadata": {},
   "source": [
    "### following_company_page"
   ]
  },
  {
   "cell_type": "code",
   "execution_count": 936,
   "metadata": {},
   "outputs": [],
   "source": [
    "df.following_company_page = df.following_company_page.replace('Yes','1')\n",
    "df.following_company_page = df.following_company_page.replace('No','0')"
   ]
  },
  {
   "cell_type": "code",
   "execution_count": 937,
   "metadata": {},
   "outputs": [
    {
     "data": {
      "text/plain": [
       "0    7523\n",
       "1    2933\n",
       "Name: following_company_page, dtype: int64"
      ]
     },
     "execution_count": 937,
     "metadata": {},
     "output_type": "execute_result"
    }
   ],
   "source": [
    "df.following_company_page.value_counts()"
   ]
  },
  {
   "cell_type": "markdown",
   "metadata": {},
   "source": [
    "### working_flag"
   ]
  },
  {
   "cell_type": "code",
   "execution_count": 938,
   "metadata": {},
   "outputs": [],
   "source": [
    "df.working_flag = df.working_flag.replace('Yes','1')\n",
    "df.working_flag = df.working_flag.replace('No','0')"
   ]
  },
  {
   "cell_type": "code",
   "execution_count": 939,
   "metadata": {},
   "outputs": [
    {
     "data": {
      "text/plain": [
       "0    8846\n",
       "1    1610\n",
       "Name: working_flag, dtype: int64"
      ]
     },
     "execution_count": 939,
     "metadata": {},
     "output_type": "execute_result"
    }
   ],
   "source": [
    "df.working_flag.value_counts()"
   ]
  },
  {
   "cell_type": "code",
   "execution_count": 940,
   "metadata": {},
   "outputs": [
    {
     "data": {
      "text/html": [
       "<div>\n",
       "<style scoped>\n",
       "    .dataframe tbody tr th:only-of-type {\n",
       "        vertical-align: middle;\n",
       "    }\n",
       "\n",
       "    .dataframe tbody tr th {\n",
       "        vertical-align: top;\n",
       "    }\n",
       "\n",
       "    .dataframe thead th {\n",
       "        text-align: right;\n",
       "    }\n",
       "</style>\n",
       "<table border=\"1\" class=\"dataframe\">\n",
       "  <thead>\n",
       "    <tr style=\"text-align: right;\">\n",
       "      <th></th>\n",
       "      <th>Taken_product</th>\n",
       "      <th>Yearly_avg_view_on_travel_page</th>\n",
       "      <th>preferred_device</th>\n",
       "      <th>total_likes_on_outstation_checkin_given</th>\n",
       "      <th>yearly_avg_Outstation_checkins</th>\n",
       "      <th>member_in_family</th>\n",
       "      <th>preferred_location_type</th>\n",
       "      <th>Yearly_avg_comment_on_travel_page</th>\n",
       "      <th>total_likes_on_outofstation_checkin_received</th>\n",
       "      <th>week_since_last_outstation_checkin</th>\n",
       "      <th>following_company_page</th>\n",
       "      <th>montly_avg_comment_on_company_page</th>\n",
       "      <th>working_flag</th>\n",
       "      <th>travelling_network_rating</th>\n",
       "      <th>Adult_flag</th>\n",
       "      <th>Daily_Avg_mins_spend_on_traveling_page</th>\n",
       "    </tr>\n",
       "  </thead>\n",
       "  <tbody>\n",
       "    <tr>\n",
       "      <th>0</th>\n",
       "      <td>1</td>\n",
       "      <td>307</td>\n",
       "      <td>1</td>\n",
       "      <td>38570</td>\n",
       "      <td>1</td>\n",
       "      <td>2</td>\n",
       "      <td>0</td>\n",
       "      <td>94</td>\n",
       "      <td>5993</td>\n",
       "      <td>8</td>\n",
       "      <td>1</td>\n",
       "      <td>11</td>\n",
       "      <td>0</td>\n",
       "      <td>1</td>\n",
       "      <td>0</td>\n",
       "      <td>8</td>\n",
       "    </tr>\n",
       "    <tr>\n",
       "      <th>1</th>\n",
       "      <td>0</td>\n",
       "      <td>367</td>\n",
       "      <td>3</td>\n",
       "      <td>9765</td>\n",
       "      <td>1</td>\n",
       "      <td>1</td>\n",
       "      <td>0</td>\n",
       "      <td>61</td>\n",
       "      <td>5130</td>\n",
       "      <td>1</td>\n",
       "      <td>0</td>\n",
       "      <td>23</td>\n",
       "      <td>1</td>\n",
       "      <td>4</td>\n",
       "      <td>1</td>\n",
       "      <td>10</td>\n",
       "    </tr>\n",
       "    <tr>\n",
       "      <th>2</th>\n",
       "      <td>1</td>\n",
       "      <td>277</td>\n",
       "      <td>1</td>\n",
       "      <td>48055</td>\n",
       "      <td>1</td>\n",
       "      <td>2</td>\n",
       "      <td>1</td>\n",
       "      <td>92</td>\n",
       "      <td>2090</td>\n",
       "      <td>6</td>\n",
       "      <td>1</td>\n",
       "      <td>15</td>\n",
       "      <td>0</td>\n",
       "      <td>2</td>\n",
       "      <td>0</td>\n",
       "      <td>7</td>\n",
       "    </tr>\n",
       "    <tr>\n",
       "      <th>3</th>\n",
       "      <td>0</td>\n",
       "      <td>247</td>\n",
       "      <td>3</td>\n",
       "      <td>48720</td>\n",
       "      <td>1</td>\n",
       "      <td>4</td>\n",
       "      <td>0</td>\n",
       "      <td>56</td>\n",
       "      <td>2909</td>\n",
       "      <td>1</td>\n",
       "      <td>1</td>\n",
       "      <td>11</td>\n",
       "      <td>0</td>\n",
       "      <td>3</td>\n",
       "      <td>0</td>\n",
       "      <td>8</td>\n",
       "    </tr>\n",
       "    <tr>\n",
       "      <th>4</th>\n",
       "      <td>0</td>\n",
       "      <td>202</td>\n",
       "      <td>1</td>\n",
       "      <td>20685</td>\n",
       "      <td>1</td>\n",
       "      <td>1</td>\n",
       "      <td>2</td>\n",
       "      <td>40</td>\n",
       "      <td>3468</td>\n",
       "      <td>9</td>\n",
       "      <td>0</td>\n",
       "      <td>12</td>\n",
       "      <td>0</td>\n",
       "      <td>4</td>\n",
       "      <td>1</td>\n",
       "      <td>6</td>\n",
       "    </tr>\n",
       "  </tbody>\n",
       "</table>\n",
       "</div>"
      ],
      "text/plain": [
       "  Taken_product  Yearly_avg_view_on_travel_page preferred_device  \\\n",
       "0             1                             307                1   \n",
       "1             0                             367                3   \n",
       "2             1                             277                1   \n",
       "3             0                             247                3   \n",
       "4             0                             202                1   \n",
       "\n",
       "   total_likes_on_outstation_checkin_given yearly_avg_Outstation_checkins  \\\n",
       "0                                    38570                              1   \n",
       "1                                     9765                              1   \n",
       "2                                    48055                              1   \n",
       "3                                    48720                              1   \n",
       "4                                    20685                              1   \n",
       "\n",
       "   member_in_family preferred_location_type  \\\n",
       "0                 2                       0   \n",
       "1                 1                       0   \n",
       "2                 2                       1   \n",
       "3                 4                       0   \n",
       "4                 1                       2   \n",
       "\n",
       "   Yearly_avg_comment_on_travel_page  \\\n",
       "0                                 94   \n",
       "1                                 61   \n",
       "2                                 92   \n",
       "3                                 56   \n",
       "4                                 40   \n",
       "\n",
       "   total_likes_on_outofstation_checkin_received  \\\n",
       "0                                          5993   \n",
       "1                                          5130   \n",
       "2                                          2090   \n",
       "3                                          2909   \n",
       "4                                          3468   \n",
       "\n",
       "   week_since_last_outstation_checkin following_company_page  \\\n",
       "0                                   8                      1   \n",
       "1                                   1                      0   \n",
       "2                                   6                      1   \n",
       "3                                   1                      1   \n",
       "4                                   9                      0   \n",
       "\n",
       "   montly_avg_comment_on_company_page working_flag  travelling_network_rating  \\\n",
       "0                                  11            0                          1   \n",
       "1                                  23            1                          4   \n",
       "2                                  15            0                          2   \n",
       "3                                  11            0                          3   \n",
       "4                                  12            0                          4   \n",
       "\n",
       "   Adult_flag  Daily_Avg_mins_spend_on_traveling_page  \n",
       "0           0                                       8  \n",
       "1           1                                      10  \n",
       "2           0                                       7  \n",
       "3           0                                       8  \n",
       "4           1                                       6  "
      ]
     },
     "execution_count": 940,
     "metadata": {},
     "output_type": "execute_result"
    }
   ],
   "source": [
    "df.head()"
   ]
  },
  {
   "cell_type": "markdown",
   "metadata": {},
   "source": [
    "## continious variables"
   ]
  },
  {
   "cell_type": "code",
   "execution_count": 941,
   "metadata": {},
   "outputs": [],
   "source": [
    "# Yearly_avg_view_on_travel_page\n",
    "# total_likes_on_outstation_checkin_given\n",
    "# Yearly_avg_comment_on_travel_page\n",
    "# total_likes_on_outofstation_checkin_received\n",
    "# montly_avg_comment_on_company_page\n",
    "# Daily_Avg_mins_spend_on_traveling_page"
   ]
  },
  {
   "cell_type": "markdown",
   "metadata": {},
   "source": [
    "### Yearly_avg_view_on_travel_page"
   ]
  },
  {
   "cell_type": "code",
   "execution_count": 942,
   "metadata": {},
   "outputs": [
    {
     "name": "stderr",
     "output_type": "stream",
     "text": [
      "C:\\Users\\siddd\\Anaconda3\\lib\\site-packages\\seaborn\\distributions.py:2551: FutureWarning: `distplot` is a deprecated function and will be removed in a future version. Please adapt your code to use either `displot` (a figure-level function with similar flexibility) or `histplot` (an axes-level function for histograms).\n",
      "  warnings.warn(msg, FutureWarning)\n"
     ]
    },
    {
     "data": {
      "text/plain": [
       "<AxesSubplot:xlabel='Yearly_avg_view_on_travel_page', ylabel='Density'>"
      ]
     },
     "execution_count": 942,
     "metadata": {},
     "output_type": "execute_result"
    },
    {
     "data": {
      "image/png": "[encoded data removed]",
      "text/plain": [
       "<Figure size 432x288 with 1 Axes>"
      ]
     },
     "metadata": {
      "needs_background": "light"
     },
     "output_type": "display_data"
    }
   ],
   "source": [
    "sns.distplot(df['Yearly_avg_view_on_travel_page'])"
   ]
  },
  {
   "cell_type": "code",
   "execution_count": 943,
   "metadata": {},
   "outputs": [],
   "source": [
    "Yearly_avg_view_on_travel_page = pd.cut(df.Yearly_avg_view_on_travel_page,bins=[0,100,200,300,400,500],labels=['0','1','2','3','4'])"
   ]
  },
  {
   "cell_type": "code",
   "execution_count": 944,
   "metadata": {},
   "outputs": [],
   "source": [
    "df.insert(2,'Yearly_avg_view_on_travel_page_code',Yearly_avg_view_on_travel_page)"
   ]
  },
  {
   "cell_type": "code",
   "execution_count": 945,
   "metadata": {},
   "outputs": [
    {
     "data": {
      "text/plain": [
       "['3', '2', '1', '4']\n",
       "Categories (4, object): ['1' < '2' < '3' < '4']"
      ]
     },
     "execution_count": 945,
     "metadata": {},
     "output_type": "execute_result"
    }
   ],
   "source": [
    "df.Yearly_avg_view_on_travel_page_code.unique()"
   ]
  },
  {
   "cell_type": "code",
   "execution_count": 946,
   "metadata": {},
   "outputs": [],
   "source": [
    "df.drop('Yearly_avg_view_on_travel_page',axis=1,inplace=True)"
   ]
  },
  {
   "cell_type": "markdown",
   "metadata": {},
   "source": [
    "### total_likes_on_outstation_checkin_given"
   ]
  },
  {
   "cell_type": "code",
   "execution_count": 947,
   "metadata": {},
   "outputs": [
    {
     "name": "stderr",
     "output_type": "stream",
     "text": [
      "C:\\Users\\siddd\\Anaconda3\\lib\\site-packages\\seaborn\\distributions.py:2551: FutureWarning: `distplot` is a deprecated function and will be removed in a future version. Please adapt your code to use either `displot` (a figure-level function with similar flexibility) or `histplot` (an axes-level function for histograms).\n",
      "  warnings.warn(msg, FutureWarning)\n"
     ]
    },
    {
     "data": {
      "text/plain": [
       "<AxesSubplot:xlabel='total_likes_on_outstation_checkin_given', ylabel='Density'>"
      ]
     },
     "execution_count": 947,
     "metadata": {},
     "output_type": "execute_result"
    },
    {
     "data": {
      "image/png": "[encoded data removed]",
      "text/plain": [
       "<Figure size 432x288 with 1 Axes>"
      ]
     },
     "metadata": {
      "needs_background": "light"
     },
     "output_type": "display_data"
    }
   ],
   "source": [
    "sns.distplot(df['total_likes_on_outstation_checkin_given'])"
   ]
  },
  {
   "cell_type": "code",
   "execution_count": null,
   "metadata": {},
   "outputs": [],
   "source": []
  },
  {
   "cell_type": "code",
   "execution_count": 948,
   "metadata": {},
   "outputs": [],
   "source": [
    "total_likes_on_outstation_checkin_given = pd.cut(df.total_likes_on_outstation_checkin_given,bins=[0,10000,20000,30000,40000,50000,60000],labels=['0','1','2','3','4','5'])\n"
   ]
  },
  {
   "cell_type": "code",
   "execution_count": 949,
   "metadata": {},
   "outputs": [],
   "source": [
    "df.insert(2,'total_likes_on_outstation_checkin_given_code',Yearly_avg_view_on_travel_page)"
   ]
  },
  {
   "cell_type": "code",
   "execution_count": 950,
   "metadata": {},
   "outputs": [
    {
     "data": {
      "text/plain": [
       "['3', '2', '1', '4']\n",
       "Categories (4, object): ['1' < '2' < '3' < '4']"
      ]
     },
     "execution_count": 950,
     "metadata": {},
     "output_type": "execute_result"
    }
   ],
   "source": [
    "df.total_likes_on_outstation_checkin_given_code.unique()"
   ]
  },
  {
   "cell_type": "code",
   "execution_count": 951,
   "metadata": {},
   "outputs": [],
   "source": [
    "df.drop('total_likes_on_outstation_checkin_given',axis=1,inplace=True)"
   ]
  },
  {
   "cell_type": "markdown",
   "metadata": {},
   "source": [
    "### Yearly_avg_comment_on_travel_page"
   ]
  },
  {
   "cell_type": "code",
   "execution_count": 952,
   "metadata": {},
   "outputs": [
    {
     "name": "stderr",
     "output_type": "stream",
     "text": [
      "C:\\Users\\siddd\\Anaconda3\\lib\\site-packages\\seaborn\\distributions.py:2551: FutureWarning: `distplot` is a deprecated function and will be removed in a future version. Please adapt your code to use either `displot` (a figure-level function with similar flexibility) or `histplot` (an axes-level function for histograms).\n",
      "  warnings.warn(msg, FutureWarning)\n"
     ]
    },
    {
     "data": {
      "text/plain": [
       "<AxesSubplot:xlabel='Yearly_avg_comment_on_travel_page', ylabel='Density'>"
      ]
     },
     "execution_count": 952,
     "metadata": {},
     "output_type": "execute_result"
    },
    {
     "data": {
      "image/png": "[encoded data removed]",
      "text/plain": [
       "<Figure size 432x288 with 1 Axes>"
      ]
     },
     "metadata": {
      "needs_background": "light"
     },
     "output_type": "display_data"
    }
   ],
   "source": [
    "sns.distplot(df['Yearly_avg_comment_on_travel_page'])"
   ]
  },
  {
   "cell_type": "code",
   "execution_count": 953,
   "metadata": {},
   "outputs": [],
   "source": [
    "Yearly_avg_comment_on_travel_page = pd.cut(df.Yearly_avg_comment_on_travel_page,bins=[0,40,60,80,100,140],labels=['0','1','2','3','4'])"
   ]
  },
  {
   "cell_type": "code",
   "execution_count": 954,
   "metadata": {},
   "outputs": [],
   "source": [
    "df.insert(2,'Yearly_avg_comment_on_travel_page_code',Yearly_avg_view_on_travel_page)"
   ]
  },
  {
   "cell_type": "code",
   "execution_count": 955,
   "metadata": {},
   "outputs": [
    {
     "data": {
      "text/plain": [
       "['3', '2', '1', '4']\n",
       "Categories (4, object): ['1' < '2' < '3' < '4']"
      ]
     },
     "execution_count": 955,
     "metadata": {},
     "output_type": "execute_result"
    }
   ],
   "source": [
    "df.Yearly_avg_comment_on_travel_page_code.unique()"
   ]
  },
  {
   "cell_type": "code",
   "execution_count": 956,
   "metadata": {},
   "outputs": [],
   "source": [
    "df.drop('Yearly_avg_comment_on_travel_page',axis=1,inplace=True)"
   ]
  },
  {
   "cell_type": "code",
   "execution_count": 957,
   "metadata": {},
   "outputs": [
    {
     "data": {
      "text/html": [
       "<div>\n",
       "<style scoped>\n",
       "    .dataframe tbody tr th:only-of-type {\n",
       "        vertical-align: middle;\n",
       "    }\n",
       "\n",
       "    .dataframe tbody tr th {\n",
       "        vertical-align: top;\n",
       "    }\n",
       "\n",
       "    .dataframe thead th {\n",
       "        text-align: right;\n",
       "    }\n",
       "</style>\n",
       "<table border=\"1\" class=\"dataframe\">\n",
       "  <thead>\n",
       "    <tr style=\"text-align: right;\">\n",
       "      <th></th>\n",
       "      <th>Taken_product</th>\n",
       "      <th>Yearly_avg_view_on_travel_page_code</th>\n",
       "      <th>Yearly_avg_comment_on_travel_page_code</th>\n",
       "      <th>total_likes_on_outstation_checkin_given_code</th>\n",
       "      <th>preferred_device</th>\n",
       "      <th>yearly_avg_Outstation_checkins</th>\n",
       "      <th>member_in_family</th>\n",
       "      <th>preferred_location_type</th>\n",
       "      <th>total_likes_on_outofstation_checkin_received</th>\n",
       "      <th>week_since_last_outstation_checkin</th>\n",
       "      <th>following_company_page</th>\n",
       "      <th>montly_avg_comment_on_company_page</th>\n",
       "      <th>working_flag</th>\n",
       "      <th>travelling_network_rating</th>\n",
       "      <th>Adult_flag</th>\n",
       "      <th>Daily_Avg_mins_spend_on_traveling_page</th>\n",
       "    </tr>\n",
       "  </thead>\n",
       "  <tbody>\n",
       "    <tr>\n",
       "      <th>0</th>\n",
       "      <td>1</td>\n",
       "      <td>3</td>\n",
       "      <td>3</td>\n",
       "      <td>3</td>\n",
       "      <td>1</td>\n",
       "      <td>1</td>\n",
       "      <td>2</td>\n",
       "      <td>0</td>\n",
       "      <td>5993</td>\n",
       "      <td>8</td>\n",
       "      <td>1</td>\n",
       "      <td>11</td>\n",
       "      <td>0</td>\n",
       "      <td>1</td>\n",
       "      <td>0</td>\n",
       "      <td>8</td>\n",
       "    </tr>\n",
       "    <tr>\n",
       "      <th>1</th>\n",
       "      <td>0</td>\n",
       "      <td>3</td>\n",
       "      <td>3</td>\n",
       "      <td>3</td>\n",
       "      <td>3</td>\n",
       "      <td>1</td>\n",
       "      <td>1</td>\n",
       "      <td>0</td>\n",
       "      <td>5130</td>\n",
       "      <td>1</td>\n",
       "      <td>0</td>\n",
       "      <td>23</td>\n",
       "      <td>1</td>\n",
       "      <td>4</td>\n",
       "      <td>1</td>\n",
       "      <td>10</td>\n",
       "    </tr>\n",
       "    <tr>\n",
       "      <th>2</th>\n",
       "      <td>1</td>\n",
       "      <td>2</td>\n",
       "      <td>2</td>\n",
       "      <td>2</td>\n",
       "      <td>1</td>\n",
       "      <td>1</td>\n",
       "      <td>2</td>\n",
       "      <td>1</td>\n",
       "      <td>2090</td>\n",
       "      <td>6</td>\n",
       "      <td>1</td>\n",
       "      <td>15</td>\n",
       "      <td>0</td>\n",
       "      <td>2</td>\n",
       "      <td>0</td>\n",
       "      <td>7</td>\n",
       "    </tr>\n",
       "    <tr>\n",
       "      <th>3</th>\n",
       "      <td>0</td>\n",
       "      <td>2</td>\n",
       "      <td>2</td>\n",
       "      <td>2</td>\n",
       "      <td>3</td>\n",
       "      <td>1</td>\n",
       "      <td>4</td>\n",
       "      <td>0</td>\n",
       "      <td>2909</td>\n",
       "      <td>1</td>\n",
       "      <td>1</td>\n",
       "      <td>11</td>\n",
       "      <td>0</td>\n",
       "      <td>3</td>\n",
       "      <td>0</td>\n",
       "      <td>8</td>\n",
       "    </tr>\n",
       "    <tr>\n",
       "      <th>4</th>\n",
       "      <td>0</td>\n",
       "      <td>2</td>\n",
       "      <td>2</td>\n",
       "      <td>2</td>\n",
       "      <td>1</td>\n",
       "      <td>1</td>\n",
       "      <td>1</td>\n",
       "      <td>2</td>\n",
       "      <td>3468</td>\n",
       "      <td>9</td>\n",
       "      <td>0</td>\n",
       "      <td>12</td>\n",
       "      <td>0</td>\n",
       "      <td>4</td>\n",
       "      <td>1</td>\n",
       "      <td>6</td>\n",
       "    </tr>\n",
       "  </tbody>\n",
       "</table>\n",
       "</div>"
      ],
      "text/plain": [
       "  Taken_product Yearly_avg_view_on_travel_page_code  \\\n",
       "0             1                                   3   \n",
       "1             0                                   3   \n",
       "2             1                                   2   \n",
       "3             0                                   2   \n",
       "4             0                                   2   \n",
       "\n",
       "  Yearly_avg_comment_on_travel_page_code  \\\n",
       "0                                      3   \n",
       "1                                      3   \n",
       "2                                      2   \n",
       "3                                      2   \n",
       "4                                      2   \n",
       "\n",
       "  total_likes_on_outstation_checkin_given_code preferred_device  \\\n",
       "0                                            3                1   \n",
       "1                                            3                3   \n",
       "2                                            2                1   \n",
       "3                                            2                3   \n",
       "4                                            2                1   \n",
       "\n",
       "  yearly_avg_Outstation_checkins  member_in_family preferred_location_type  \\\n",
       "0                              1                 2                       0   \n",
       "1                              1                 1                       0   \n",
       "2                              1                 2                       1   \n",
       "3                              1                 4                       0   \n",
       "4                              1                 1                       2   \n",
       "\n",
       "   total_likes_on_outofstation_checkin_received  \\\n",
       "0                                          5993   \n",
       "1                                          5130   \n",
       "2                                          2090   \n",
       "3                                          2909   \n",
       "4                                          3468   \n",
       "\n",
       "   week_since_last_outstation_checkin following_company_page  \\\n",
       "0                                   8                      1   \n",
       "1                                   1                      0   \n",
       "2                                   6                      1   \n",
       "3                                   1                      1   \n",
       "4                                   9                      0   \n",
       "\n",
       "   montly_avg_comment_on_company_page working_flag  travelling_network_rating  \\\n",
       "0                                  11            0                          1   \n",
       "1                                  23            1                          4   \n",
       "2                                  15            0                          2   \n",
       "3                                  11            0                          3   \n",
       "4                                  12            0                          4   \n",
       "\n",
       "   Adult_flag  Daily_Avg_mins_spend_on_traveling_page  \n",
       "0           0                                       8  \n",
       "1           1                                      10  \n",
       "2           0                                       7  \n",
       "3           0                                       8  \n",
       "4           1                                       6  "
      ]
     },
     "execution_count": 957,
     "metadata": {},
     "output_type": "execute_result"
    }
   ],
   "source": [
    "df.head()"
   ]
  },
  {
   "cell_type": "markdown",
   "metadata": {},
   "source": [
    "### total_likes_on_outofstation_checkin_received"
   ]
  },
  {
   "cell_type": "code",
   "execution_count": 958,
   "metadata": {},
   "outputs": [
    {
     "name": "stderr",
     "output_type": "stream",
     "text": [
      "C:\\Users\\siddd\\Anaconda3\\lib\\site-packages\\seaborn\\distributions.py:2551: FutureWarning: `distplot` is a deprecated function and will be removed in a future version. Please adapt your code to use either `displot` (a figure-level function with similar flexibility) or `histplot` (an axes-level function for histograms).\n",
      "  warnings.warn(msg, FutureWarning)\n"
     ]
    },
    {
     "data": {
      "text/plain": [
       "<AxesSubplot:xlabel='total_likes_on_outofstation_checkin_received', ylabel='Density'>"
      ]
     },
     "execution_count": 958,
     "metadata": {},
     "output_type": "execute_result"
    },
    {
     "data": {
      "image/png": "[encoded data removed]",
      "text/plain": [
       "<Figure size 432x288 with 1 Axes>"
      ]
     },
     "metadata": {
      "needs_background": "light"
     },
     "output_type": "display_data"
    }
   ],
   "source": [
    "sns.distplot(df['total_likes_on_outofstation_checkin_received'])"
   ]
  },
  {
   "cell_type": "code",
   "execution_count": 959,
   "metadata": {},
   "outputs": [],
   "source": [
    "total_likes_on_outofstation_checkin_received = pd.cut(df.total_likes_on_outofstation_checkin_received,bins=[0,2500,5000,7500,10000,12500,15000,20000],labels=['0','1','2','3','4','5','6'])"
   ]
  },
  {
   "cell_type": "code",
   "execution_count": 960,
   "metadata": {},
   "outputs": [
    {
     "data": {
      "text/plain": [
       "['2', '0', '1', '3', '6', '4', '5']\n",
       "Categories (7, object): ['0' < '1' < '2' < '3' < '4' < '5' < '6']"
      ]
     },
     "execution_count": 960,
     "metadata": {},
     "output_type": "execute_result"
    }
   ],
   "source": [
    "df.insert(2,'total_likes_on_outofstation_checkin_received_code',total_likes_on_outofstation_checkin_received)\n",
    "df.total_likes_on_outofstation_checkin_received_code.unique()"
   ]
  },
  {
   "cell_type": "code",
   "execution_count": 961,
   "metadata": {},
   "outputs": [
    {
     "data": {
      "text/html": [
       "<div>\n",
       "<style scoped>\n",
       "    .dataframe tbody tr th:only-of-type {\n",
       "        vertical-align: middle;\n",
       "    }\n",
       "\n",
       "    .dataframe tbody tr th {\n",
       "        vertical-align: top;\n",
       "    }\n",
       "\n",
       "    .dataframe thead th {\n",
       "        text-align: right;\n",
       "    }\n",
       "</style>\n",
       "<table border=\"1\" class=\"dataframe\">\n",
       "  <thead>\n",
       "    <tr style=\"text-align: right;\">\n",
       "      <th></th>\n",
       "      <th>Taken_product</th>\n",
       "      <th>Yearly_avg_view_on_travel_page_code</th>\n",
       "      <th>total_likes_on_outofstation_checkin_received_code</th>\n",
       "      <th>Yearly_avg_comment_on_travel_page_code</th>\n",
       "      <th>total_likes_on_outstation_checkin_given_code</th>\n",
       "      <th>preferred_device</th>\n",
       "      <th>yearly_avg_Outstation_checkins</th>\n",
       "      <th>member_in_family</th>\n",
       "      <th>preferred_location_type</th>\n",
       "      <th>week_since_last_outstation_checkin</th>\n",
       "      <th>following_company_page</th>\n",
       "      <th>montly_avg_comment_on_company_page</th>\n",
       "      <th>working_flag</th>\n",
       "      <th>travelling_network_rating</th>\n",
       "      <th>Adult_flag</th>\n",
       "      <th>Daily_Avg_mins_spend_on_traveling_page</th>\n",
       "    </tr>\n",
       "  </thead>\n",
       "  <tbody>\n",
       "    <tr>\n",
       "      <th>0</th>\n",
       "      <td>1</td>\n",
       "      <td>3</td>\n",
       "      <td>2</td>\n",
       "      <td>3</td>\n",
       "      <td>3</td>\n",
       "      <td>1</td>\n",
       "      <td>1</td>\n",
       "      <td>2</td>\n",
       "      <td>0</td>\n",
       "      <td>8</td>\n",
       "      <td>1</td>\n",
       "      <td>11</td>\n",
       "      <td>0</td>\n",
       "      <td>1</td>\n",
       "      <td>0</td>\n",
       "      <td>8</td>\n",
       "    </tr>\n",
       "    <tr>\n",
       "      <th>1</th>\n",
       "      <td>0</td>\n",
       "      <td>3</td>\n",
       "      <td>2</td>\n",
       "      <td>3</td>\n",
       "      <td>3</td>\n",
       "      <td>3</td>\n",
       "      <td>1</td>\n",
       "      <td>1</td>\n",
       "      <td>0</td>\n",
       "      <td>1</td>\n",
       "      <td>0</td>\n",
       "      <td>23</td>\n",
       "      <td>1</td>\n",
       "      <td>4</td>\n",
       "      <td>1</td>\n",
       "      <td>10</td>\n",
       "    </tr>\n",
       "    <tr>\n",
       "      <th>2</th>\n",
       "      <td>1</td>\n",
       "      <td>2</td>\n",
       "      <td>0</td>\n",
       "      <td>2</td>\n",
       "      <td>2</td>\n",
       "      <td>1</td>\n",
       "      <td>1</td>\n",
       "      <td>2</td>\n",
       "      <td>1</td>\n",
       "      <td>6</td>\n",
       "      <td>1</td>\n",
       "      <td>15</td>\n",
       "      <td>0</td>\n",
       "      <td>2</td>\n",
       "      <td>0</td>\n",
       "      <td>7</td>\n",
       "    </tr>\n",
       "    <tr>\n",
       "      <th>3</th>\n",
       "      <td>0</td>\n",
       "      <td>2</td>\n",
       "      <td>1</td>\n",
       "      <td>2</td>\n",
       "      <td>2</td>\n",
       "      <td>3</td>\n",
       "      <td>1</td>\n",
       "      <td>4</td>\n",
       "      <td>0</td>\n",
       "      <td>1</td>\n",
       "      <td>1</td>\n",
       "      <td>11</td>\n",
       "      <td>0</td>\n",
       "      <td>3</td>\n",
       "      <td>0</td>\n",
       "      <td>8</td>\n",
       "    </tr>\n",
       "    <tr>\n",
       "      <th>4</th>\n",
       "      <td>0</td>\n",
       "      <td>2</td>\n",
       "      <td>1</td>\n",
       "      <td>2</td>\n",
       "      <td>2</td>\n",
       "      <td>1</td>\n",
       "      <td>1</td>\n",
       "      <td>1</td>\n",
       "      <td>2</td>\n",
       "      <td>9</td>\n",
       "      <td>0</td>\n",
       "      <td>12</td>\n",
       "      <td>0</td>\n",
       "      <td>4</td>\n",
       "      <td>1</td>\n",
       "      <td>6</td>\n",
       "    </tr>\n",
       "  </tbody>\n",
       "</table>\n",
       "</div>"
      ],
      "text/plain": [
       "  Taken_product Yearly_avg_view_on_travel_page_code  \\\n",
       "0             1                                   3   \n",
       "1             0                                   3   \n",
       "2             1                                   2   \n",
       "3             0                                   2   \n",
       "4             0                                   2   \n",
       "\n",
       "  total_likes_on_outofstation_checkin_received_code  \\\n",
       "0                                                 2   \n",
       "1                                                 2   \n",
       "2                                                 0   \n",
       "3                                                 1   \n",
       "4                                                 1   \n",
       "\n",
       "  Yearly_avg_comment_on_travel_page_code  \\\n",
       "0                                      3   \n",
       "1                                      3   \n",
       "2                                      2   \n",
       "3                                      2   \n",
       "4                                      2   \n",
       "\n",
       "  total_likes_on_outstation_checkin_given_code preferred_device  \\\n",
       "0                                            3                1   \n",
       "1                                            3                3   \n",
       "2                                            2                1   \n",
       "3                                            2                3   \n",
       "4                                            2                1   \n",
       "\n",
       "  yearly_avg_Outstation_checkins  member_in_family preferred_location_type  \\\n",
       "0                              1                 2                       0   \n",
       "1                              1                 1                       0   \n",
       "2                              1                 2                       1   \n",
       "3                              1                 4                       0   \n",
       "4                              1                 1                       2   \n",
       "\n",
       "   week_since_last_outstation_checkin following_company_page  \\\n",
       "0                                   8                      1   \n",
       "1                                   1                      0   \n",
       "2                                   6                      1   \n",
       "3                                   1                      1   \n",
       "4                                   9                      0   \n",
       "\n",
       "   montly_avg_comment_on_company_page working_flag  travelling_network_rating  \\\n",
       "0                                  11            0                          1   \n",
       "1                                  23            1                          4   \n",
       "2                                  15            0                          2   \n",
       "3                                  11            0                          3   \n",
       "4                                  12            0                          4   \n",
       "\n",
       "   Adult_flag  Daily_Avg_mins_spend_on_traveling_page  \n",
       "0           0                                       8  \n",
       "1           1                                      10  \n",
       "2           0                                       7  \n",
       "3           0                                       8  \n",
       "4           1                                       6  "
      ]
     },
     "execution_count": 961,
     "metadata": {},
     "output_type": "execute_result"
    }
   ],
   "source": [
    "df.drop('total_likes_on_outofstation_checkin_received',axis=1,inplace=True)\n",
    "df.head()"
   ]
  },
  {
   "cell_type": "markdown",
   "metadata": {},
   "source": [
    "### montly_avg_comment_on_company_page"
   ]
  },
  {
   "cell_type": "code",
   "execution_count": 962,
   "metadata": {},
   "outputs": [
    {
     "name": "stderr",
     "output_type": "stream",
     "text": [
      "C:\\Users\\siddd\\Anaconda3\\lib\\site-packages\\seaborn\\distributions.py:2551: FutureWarning: `distplot` is a deprecated function and will be removed in a future version. Please adapt your code to use either `displot` (a figure-level function with similar flexibility) or `histplot` (an axes-level function for histograms).\n",
      "  warnings.warn(msg, FutureWarning)\n"
     ]
    },
    {
     "data": {
      "text/plain": [
       "<AxesSubplot:xlabel='montly_avg_comment_on_company_page', ylabel='Density'>"
      ]
     },
     "execution_count": 962,
     "metadata": {},
     "output_type": "execute_result"
    },
    {
     "data": {
      "image/png": "[encoded data removed]",
      "text/plain": [
       "<Figure size 432x288 with 1 Axes>"
      ]
     },
     "metadata": {
      "needs_background": "light"
     },
     "output_type": "display_data"
    }
   ],
   "source": [
    "sns.distplot(df['montly_avg_comment_on_company_page'])"
   ]
  },
  {
   "cell_type": "code",
   "execution_count": 963,
   "metadata": {},
   "outputs": [],
   "source": [
    "montly_avg_comment_on_company_page = pd.cut(df.montly_avg_comment_on_company_page,bins=[0,10,20,30,40,],labels=['0','1','2','3'])"
   ]
  },
  {
   "cell_type": "code",
   "execution_count": 964,
   "metadata": {},
   "outputs": [
    {
     "data": {
      "text/plain": [
       "['1', '2', '3']\n",
       "Categories (3, object): ['1' < '2' < '3']"
      ]
     },
     "execution_count": 964,
     "metadata": {},
     "output_type": "execute_result"
    }
   ],
   "source": [
    "df.insert(2,'montly_avg_comment_on_company_page_code',montly_avg_comment_on_company_page)\n",
    "df.montly_avg_comment_on_company_page_code.unique()"
   ]
  },
  {
   "cell_type": "code",
   "execution_count": 965,
   "metadata": {},
   "outputs": [
    {
     "data": {
      "text/html": [
       "<div>\n",
       "<style scoped>\n",
       "    .dataframe tbody tr th:only-of-type {\n",
       "        vertical-align: middle;\n",
       "    }\n",
       "\n",
       "    .dataframe tbody tr th {\n",
       "        vertical-align: top;\n",
       "    }\n",
       "\n",
       "    .dataframe thead th {\n",
       "        text-align: right;\n",
       "    }\n",
       "</style>\n",
       "<table border=\"1\" class=\"dataframe\">\n",
       "  <thead>\n",
       "    <tr style=\"text-align: right;\">\n",
       "      <th></th>\n",
       "      <th>Taken_product</th>\n",
       "      <th>Yearly_avg_view_on_travel_page_code</th>\n",
       "      <th>montly_avg_comment_on_company_page_code</th>\n",
       "      <th>total_likes_on_outofstation_checkin_received_code</th>\n",
       "      <th>Yearly_avg_comment_on_travel_page_code</th>\n",
       "      <th>total_likes_on_outstation_checkin_given_code</th>\n",
       "      <th>preferred_device</th>\n",
       "      <th>yearly_avg_Outstation_checkins</th>\n",
       "      <th>member_in_family</th>\n",
       "      <th>preferred_location_type</th>\n",
       "      <th>week_since_last_outstation_checkin</th>\n",
       "      <th>following_company_page</th>\n",
       "      <th>working_flag</th>\n",
       "      <th>travelling_network_rating</th>\n",
       "      <th>Adult_flag</th>\n",
       "      <th>Daily_Avg_mins_spend_on_traveling_page</th>\n",
       "    </tr>\n",
       "  </thead>\n",
       "  <tbody>\n",
       "    <tr>\n",
       "      <th>0</th>\n",
       "      <td>1</td>\n",
       "      <td>3</td>\n",
       "      <td>1</td>\n",
       "      <td>2</td>\n",
       "      <td>3</td>\n",
       "      <td>3</td>\n",
       "      <td>1</td>\n",
       "      <td>1</td>\n",
       "      <td>2</td>\n",
       "      <td>0</td>\n",
       "      <td>8</td>\n",
       "      <td>1</td>\n",
       "      <td>0</td>\n",
       "      <td>1</td>\n",
       "      <td>0</td>\n",
       "      <td>8</td>\n",
       "    </tr>\n",
       "    <tr>\n",
       "      <th>1</th>\n",
       "      <td>0</td>\n",
       "      <td>3</td>\n",
       "      <td>2</td>\n",
       "      <td>2</td>\n",
       "      <td>3</td>\n",
       "      <td>3</td>\n",
       "      <td>3</td>\n",
       "      <td>1</td>\n",
       "      <td>1</td>\n",
       "      <td>0</td>\n",
       "      <td>1</td>\n",
       "      <td>0</td>\n",
       "      <td>1</td>\n",
       "      <td>4</td>\n",
       "      <td>1</td>\n",
       "      <td>10</td>\n",
       "    </tr>\n",
       "    <tr>\n",
       "      <th>2</th>\n",
       "      <td>1</td>\n",
       "      <td>2</td>\n",
       "      <td>1</td>\n",
       "      <td>0</td>\n",
       "      <td>2</td>\n",
       "      <td>2</td>\n",
       "      <td>1</td>\n",
       "      <td>1</td>\n",
       "      <td>2</td>\n",
       "      <td>1</td>\n",
       "      <td>6</td>\n",
       "      <td>1</td>\n",
       "      <td>0</td>\n",
       "      <td>2</td>\n",
       "      <td>0</td>\n",
       "      <td>7</td>\n",
       "    </tr>\n",
       "    <tr>\n",
       "      <th>3</th>\n",
       "      <td>0</td>\n",
       "      <td>2</td>\n",
       "      <td>1</td>\n",
       "      <td>1</td>\n",
       "      <td>2</td>\n",
       "      <td>2</td>\n",
       "      <td>3</td>\n",
       "      <td>1</td>\n",
       "      <td>4</td>\n",
       "      <td>0</td>\n",
       "      <td>1</td>\n",
       "      <td>1</td>\n",
       "      <td>0</td>\n",
       "      <td>3</td>\n",
       "      <td>0</td>\n",
       "      <td>8</td>\n",
       "    </tr>\n",
       "    <tr>\n",
       "      <th>4</th>\n",
       "      <td>0</td>\n",
       "      <td>2</td>\n",
       "      <td>1</td>\n",
       "      <td>1</td>\n",
       "      <td>2</td>\n",
       "      <td>2</td>\n",
       "      <td>1</td>\n",
       "      <td>1</td>\n",
       "      <td>1</td>\n",
       "      <td>2</td>\n",
       "      <td>9</td>\n",
       "      <td>0</td>\n",
       "      <td>0</td>\n",
       "      <td>4</td>\n",
       "      <td>1</td>\n",
       "      <td>6</td>\n",
       "    </tr>\n",
       "  </tbody>\n",
       "</table>\n",
       "</div>"
      ],
      "text/plain": [
       "  Taken_product Yearly_avg_view_on_travel_page_code  \\\n",
       "0             1                                   3   \n",
       "1             0                                   3   \n",
       "2             1                                   2   \n",
       "3             0                                   2   \n",
       "4             0                                   2   \n",
       "\n",
       "  montly_avg_comment_on_company_page_code  \\\n",
       "0                                       1   \n",
       "1                                       2   \n",
       "2                                       1   \n",
       "3                                       1   \n",
       "4                                       1   \n",
       "\n",
       "  total_likes_on_outofstation_checkin_received_code  \\\n",
       "0                                                 2   \n",
       "1                                                 2   \n",
       "2                                                 0   \n",
       "3                                                 1   \n",
       "4                                                 1   \n",
       "\n",
       "  Yearly_avg_comment_on_travel_page_code  \\\n",
       "0                                      3   \n",
       "1                                      3   \n",
       "2                                      2   \n",
       "3                                      2   \n",
       "4                                      2   \n",
       "\n",
       "  total_likes_on_outstation_checkin_given_code preferred_device  \\\n",
       "0                                            3                1   \n",
       "1                                            3                3   \n",
       "2                                            2                1   \n",
       "3                                            2                3   \n",
       "4                                            2                1   \n",
       "\n",
       "  yearly_avg_Outstation_checkins  member_in_family preferred_location_type  \\\n",
       "0                              1                 2                       0   \n",
       "1                              1                 1                       0   \n",
       "2                              1                 2                       1   \n",
       "3                              1                 4                       0   \n",
       "4                              1                 1                       2   \n",
       "\n",
       "   week_since_last_outstation_checkin following_company_page working_flag  \\\n",
       "0                                   8                      1            0   \n",
       "1                                   1                      0            1   \n",
       "2                                   6                      1            0   \n",
       "3                                   1                      1            0   \n",
       "4                                   9                      0            0   \n",
       "\n",
       "   travelling_network_rating  Adult_flag  \\\n",
       "0                          1           0   \n",
       "1                          4           1   \n",
       "2                          2           0   \n",
       "3                          3           0   \n",
       "4                          4           1   \n",
       "\n",
       "   Daily_Avg_mins_spend_on_traveling_page  \n",
       "0                                       8  \n",
       "1                                      10  \n",
       "2                                       7  \n",
       "3                                       8  \n",
       "4                                       6  "
      ]
     },
     "execution_count": 965,
     "metadata": {},
     "output_type": "execute_result"
    }
   ],
   "source": [
    "df.drop('montly_avg_comment_on_company_page',axis=1,inplace=True)\n",
    "df.head()"
   ]
  },
  {
   "cell_type": "markdown",
   "metadata": {},
   "source": [
    "### Daily_Avg_mins_spend_on_traveling_page"
   ]
  },
  {
   "cell_type": "code",
   "execution_count": 966,
   "metadata": {},
   "outputs": [
    {
     "name": "stderr",
     "output_type": "stream",
     "text": [
      "C:\\Users\\siddd\\Anaconda3\\lib\\site-packages\\seaborn\\distributions.py:2551: FutureWarning: `distplot` is a deprecated function and will be removed in a future version. Please adapt your code to use either `displot` (a figure-level function with similar flexibility) or `histplot` (an axes-level function for histograms).\n",
      "  warnings.warn(msg, FutureWarning)\n"
     ]
    },
    {
     "data": {
      "text/plain": [
       "<AxesSubplot:xlabel='Daily_Avg_mins_spend_on_traveling_page', ylabel='Density'>"
      ]
     },
     "execution_count": 966,
     "metadata": {},
     "output_type": "execute_result"
    },
    {
     "data": {
      "image/png": "[encoded data removed]",
      "text/plain": [
       "<Figure size 432x288 with 1 Axes>"
      ]
     },
     "metadata": {
      "needs_background": "light"
     },
     "output_type": "display_data"
    }
   ],
   "source": [
    "sns.distplot(df['Daily_Avg_mins_spend_on_traveling_page'])"
   ]
  },
  {
   "cell_type": "code",
   "execution_count": 967,
   "metadata": {},
   "outputs": [
    {
     "data": {
      "text/plain": [
       "array([ 8, 10,  7,  6,  5,  3, 31, 13,  0, 26, 24,  9, 19,  2,  1, 12, 23,\n",
       "       15,  4, 29, 21, 11, 16, 17, 22, 28, 14, 33, 18, 32, 20, 25, 30, 27],\n",
       "      dtype=int64)"
      ]
     },
     "execution_count": 967,
     "metadata": {},
     "output_type": "execute_result"
    }
   ],
   "source": [
    "df['Daily_Avg_mins_spend_on_traveling_page'].unique()"
   ]
  },
  {
   "cell_type": "code",
   "execution_count": 968,
   "metadata": {},
   "outputs": [],
   "source": [
    "Daily_Avg_mins_spend_on_traveling_page = pd.cut(df.Daily_Avg_mins_spend_on_traveling_page,bins=[-5,10,20,30,40,],labels=['0','1','2','3'])"
   ]
  },
  {
   "cell_type": "code",
   "execution_count": 969,
   "metadata": {},
   "outputs": [
    {
     "data": {
      "text/plain": [
       "['1', '2', '3']\n",
       "Categories (3, object): ['1' < '2' < '3']"
      ]
     },
     "execution_count": 969,
     "metadata": {},
     "output_type": "execute_result"
    }
   ],
   "source": [
    "df.insert(2,'Daily_Avg_mins_spend_on_traveling_page_code',Daily_Avg_mins_spend_on_traveling_page)\n",
    "df.montly_avg_comment_on_company_page_code.unique()"
   ]
  },
  {
   "cell_type": "code",
   "execution_count": 970,
   "metadata": {},
   "outputs": [
    {
     "data": {
      "text/plain": [
       "Taken_product                                        0\n",
       "Yearly_avg_view_on_travel_page_code                  0\n",
       "Daily_Avg_mins_spend_on_traveling_page_code          0\n",
       "montly_avg_comment_on_company_page_code              0\n",
       "total_likes_on_outofstation_checkin_received_code    0\n",
       "Yearly_avg_comment_on_travel_page_code               0\n",
       "total_likes_on_outstation_checkin_given_code         0\n",
       "preferred_device                                     0\n",
       "yearly_avg_Outstation_checkins                       0\n",
       "member_in_family                                     0\n",
       "preferred_location_type                              0\n",
       "week_since_last_outstation_checkin                   0\n",
       "following_company_page                               0\n",
       "working_flag                                         0\n",
       "travelling_network_rating                            0\n",
       "Adult_flag                                           0\n",
       "Daily_Avg_mins_spend_on_traveling_page               0\n",
       "dtype: int64"
      ]
     },
     "execution_count": 970,
     "metadata": {},
     "output_type": "execute_result"
    }
   ],
   "source": [
    "df.isna().sum()"
   ]
  },
  {
   "cell_type": "code",
   "execution_count": 971,
   "metadata": {},
   "outputs": [
    {
     "data": {
      "text/html": [
       "<div>\n",
       "<style scoped>\n",
       "    .dataframe tbody tr th:only-of-type {\n",
       "        vertical-align: middle;\n",
       "    }\n",
       "\n",
       "    .dataframe tbody tr th {\n",
       "        vertical-align: top;\n",
       "    }\n",
       "\n",
       "    .dataframe thead th {\n",
       "        text-align: right;\n",
       "    }\n",
       "</style>\n",
       "<table border=\"1\" class=\"dataframe\">\n",
       "  <thead>\n",
       "    <tr style=\"text-align: right;\">\n",
       "      <th></th>\n",
       "      <th>Taken_product</th>\n",
       "      <th>Yearly_avg_view_on_travel_page_code</th>\n",
       "      <th>Daily_Avg_mins_spend_on_traveling_page_code</th>\n",
       "      <th>montly_avg_comment_on_company_page_code</th>\n",
       "      <th>total_likes_on_outofstation_checkin_received_code</th>\n",
       "      <th>Yearly_avg_comment_on_travel_page_code</th>\n",
       "      <th>total_likes_on_outstation_checkin_given_code</th>\n",
       "      <th>preferred_device</th>\n",
       "      <th>yearly_avg_Outstation_checkins</th>\n",
       "      <th>member_in_family</th>\n",
       "      <th>preferred_location_type</th>\n",
       "      <th>week_since_last_outstation_checkin</th>\n",
       "      <th>following_company_page</th>\n",
       "      <th>working_flag</th>\n",
       "      <th>travelling_network_rating</th>\n",
       "      <th>Adult_flag</th>\n",
       "    </tr>\n",
       "  </thead>\n",
       "  <tbody>\n",
       "    <tr>\n",
       "      <th>0</th>\n",
       "      <td>1</td>\n",
       "      <td>3</td>\n",
       "      <td>0</td>\n",
       "      <td>1</td>\n",
       "      <td>2</td>\n",
       "      <td>3</td>\n",
       "      <td>3</td>\n",
       "      <td>1</td>\n",
       "      <td>1</td>\n",
       "      <td>2</td>\n",
       "      <td>0</td>\n",
       "      <td>8</td>\n",
       "      <td>1</td>\n",
       "      <td>0</td>\n",
       "      <td>1</td>\n",
       "      <td>0</td>\n",
       "    </tr>\n",
       "    <tr>\n",
       "      <th>1</th>\n",
       "      <td>0</td>\n",
       "      <td>3</td>\n",
       "      <td>0</td>\n",
       "      <td>2</td>\n",
       "      <td>2</td>\n",
       "      <td>3</td>\n",
       "      <td>3</td>\n",
       "      <td>3</td>\n",
       "      <td>1</td>\n",
       "      <td>1</td>\n",
       "      <td>0</td>\n",
       "      <td>1</td>\n",
       "      <td>0</td>\n",
       "      <td>1</td>\n",
       "      <td>4</td>\n",
       "      <td>1</td>\n",
       "    </tr>\n",
       "    <tr>\n",
       "      <th>2</th>\n",
       "      <td>1</td>\n",
       "      <td>2</td>\n",
       "      <td>0</td>\n",
       "      <td>1</td>\n",
       "      <td>0</td>\n",
       "      <td>2</td>\n",
       "      <td>2</td>\n",
       "      <td>1</td>\n",
       "      <td>1</td>\n",
       "      <td>2</td>\n",
       "      <td>1</td>\n",
       "      <td>6</td>\n",
       "      <td>1</td>\n",
       "      <td>0</td>\n",
       "      <td>2</td>\n",
       "      <td>0</td>\n",
       "    </tr>\n",
       "    <tr>\n",
       "      <th>3</th>\n",
       "      <td>0</td>\n",
       "      <td>2</td>\n",
       "      <td>0</td>\n",
       "      <td>1</td>\n",
       "      <td>1</td>\n",
       "      <td>2</td>\n",
       "      <td>2</td>\n",
       "      <td>3</td>\n",
       "      <td>1</td>\n",
       "      <td>4</td>\n",
       "      <td>0</td>\n",
       "      <td>1</td>\n",
       "      <td>1</td>\n",
       "      <td>0</td>\n",
       "      <td>3</td>\n",
       "      <td>0</td>\n",
       "    </tr>\n",
       "    <tr>\n",
       "      <th>4</th>\n",
       "      <td>0</td>\n",
       "      <td>2</td>\n",
       "      <td>0</td>\n",
       "      <td>1</td>\n",
       "      <td>1</td>\n",
       "      <td>2</td>\n",
       "      <td>2</td>\n",
       "      <td>1</td>\n",
       "      <td>1</td>\n",
       "      <td>1</td>\n",
       "      <td>2</td>\n",
       "      <td>9</td>\n",
       "      <td>0</td>\n",
       "      <td>0</td>\n",
       "      <td>4</td>\n",
       "      <td>1</td>\n",
       "    </tr>\n",
       "  </tbody>\n",
       "</table>\n",
       "</div>"
      ],
      "text/plain": [
       "  Taken_product Yearly_avg_view_on_travel_page_code  \\\n",
       "0             1                                   3   \n",
       "1             0                                   3   \n",
       "2             1                                   2   \n",
       "3             0                                   2   \n",
       "4             0                                   2   \n",
       "\n",
       "  Daily_Avg_mins_spend_on_traveling_page_code  \\\n",
       "0                                           0   \n",
       "1                                           0   \n",
       "2                                           0   \n",
       "3                                           0   \n",
       "4                                           0   \n",
       "\n",
       "  montly_avg_comment_on_company_page_code  \\\n",
       "0                                       1   \n",
       "1                                       2   \n",
       "2                                       1   \n",
       "3                                       1   \n",
       "4                                       1   \n",
       "\n",
       "  total_likes_on_outofstation_checkin_received_code  \\\n",
       "0                                                 2   \n",
       "1                                                 2   \n",
       "2                                                 0   \n",
       "3                                                 1   \n",
       "4                                                 1   \n",
       "\n",
       "  Yearly_avg_comment_on_travel_page_code  \\\n",
       "0                                      3   \n",
       "1                                      3   \n",
       "2                                      2   \n",
       "3                                      2   \n",
       "4                                      2   \n",
       "\n",
       "  total_likes_on_outstation_checkin_given_code preferred_device  \\\n",
       "0                                            3                1   \n",
       "1                                            3                3   \n",
       "2                                            2                1   \n",
       "3                                            2                3   \n",
       "4                                            2                1   \n",
       "\n",
       "  yearly_avg_Outstation_checkins  member_in_family preferred_location_type  \\\n",
       "0                              1                 2                       0   \n",
       "1                              1                 1                       0   \n",
       "2                              1                 2                       1   \n",
       "3                              1                 4                       0   \n",
       "4                              1                 1                       2   \n",
       "\n",
       "   week_since_last_outstation_checkin following_company_page working_flag  \\\n",
       "0                                   8                      1            0   \n",
       "1                                   1                      0            1   \n",
       "2                                   6                      1            0   \n",
       "3                                   1                      1            0   \n",
       "4                                   9                      0            0   \n",
       "\n",
       "   travelling_network_rating  Adult_flag  \n",
       "0                          1           0  \n",
       "1                          4           1  \n",
       "2                          2           0  \n",
       "3                          3           0  \n",
       "4                          4           1  "
      ]
     },
     "execution_count": 971,
     "metadata": {},
     "output_type": "execute_result"
    }
   ],
   "source": [
    "df.drop('Daily_Avg_mins_spend_on_traveling_page',axis=1,inplace=True)\n",
    "df.head()"
   ]
  },
  {
   "cell_type": "code",
   "execution_count": 972,
   "metadata": {},
   "outputs": [],
   "source": [
    "df = df[df['yearly_avg_Outstation_checkins'] != '*']"
   ]
  },
  {
   "cell_type": "markdown",
   "metadata": {},
   "source": [
    "# spliting data into device used"
   ]
  },
  {
   "cell_type": "code",
   "execution_count": 973,
   "metadata": {},
   "outputs": [
    {
     "data": {
      "text/plain": [
       "0    4172\n",
       "1    3246\n",
       "2    1108\n",
       "3     859\n",
       "4     600\n",
       "5     467\n",
       "6       3\n",
       "Name: preferred_device, dtype: int64"
      ]
     },
     "execution_count": 973,
     "metadata": {},
     "output_type": "execute_result"
    }
   ],
   "source": [
    "df.preferred_device.value_counts() "
   ]
  },
  {
   "cell_type": "code",
   "execution_count": 974,
   "metadata": {},
   "outputs": [],
   "source": [
    "df_1= df.loc[df[\"preferred_device\"] != \"2\"]\n",
    "df_2= df.loc[df[\"preferred_device\"] == \"2\"]"
   ]
  },
  {
   "cell_type": "code",
   "execution_count": 975,
   "metadata": {},
   "outputs": [
    {
     "data": {
      "text/plain": [
       "0    4172\n",
       "1    3246\n",
       "3     859\n",
       "4     600\n",
       "5     467\n",
       "6       3\n",
       "Name: preferred_device, dtype: int64"
      ]
     },
     "execution_count": 975,
     "metadata": {},
     "output_type": "execute_result"
    }
   ],
   "source": [
    "df_1.preferred_device.value_counts() "
   ]
  },
  {
   "cell_type": "code",
   "execution_count": 976,
   "metadata": {},
   "outputs": [
    {
     "data": {
      "text/html": [
       "<div>\n",
       "<style scoped>\n",
       "    .dataframe tbody tr th:only-of-type {\n",
       "        vertical-align: middle;\n",
       "    }\n",
       "\n",
       "    .dataframe tbody tr th {\n",
       "        vertical-align: top;\n",
       "    }\n",
       "\n",
       "    .dataframe thead th {\n",
       "        text-align: right;\n",
       "    }\n",
       "</style>\n",
       "<table border=\"1\" class=\"dataframe\">\n",
       "  <thead>\n",
       "    <tr style=\"text-align: right;\">\n",
       "      <th></th>\n",
       "      <th>Taken_product</th>\n",
       "      <th>Yearly_avg_view_on_travel_page_code</th>\n",
       "      <th>Daily_Avg_mins_spend_on_traveling_page_code</th>\n",
       "      <th>montly_avg_comment_on_company_page_code</th>\n",
       "      <th>total_likes_on_outofstation_checkin_received_code</th>\n",
       "      <th>Yearly_avg_comment_on_travel_page_code</th>\n",
       "      <th>total_likes_on_outstation_checkin_given_code</th>\n",
       "      <th>preferred_device</th>\n",
       "      <th>yearly_avg_Outstation_checkins</th>\n",
       "      <th>member_in_family</th>\n",
       "      <th>preferred_location_type</th>\n",
       "      <th>week_since_last_outstation_checkin</th>\n",
       "      <th>following_company_page</th>\n",
       "      <th>working_flag</th>\n",
       "      <th>travelling_network_rating</th>\n",
       "      <th>Adult_flag</th>\n",
       "    </tr>\n",
       "  </thead>\n",
       "  <tbody>\n",
       "    <tr>\n",
       "      <th>0</th>\n",
       "      <td>1</td>\n",
       "      <td>3</td>\n",
       "      <td>0</td>\n",
       "      <td>1</td>\n",
       "      <td>2</td>\n",
       "      <td>3</td>\n",
       "      <td>3</td>\n",
       "      <td>1</td>\n",
       "      <td>1</td>\n",
       "      <td>2</td>\n",
       "      <td>0</td>\n",
       "      <td>8</td>\n",
       "      <td>1</td>\n",
       "      <td>0</td>\n",
       "      <td>1</td>\n",
       "      <td>0</td>\n",
       "    </tr>\n",
       "    <tr>\n",
       "      <th>1</th>\n",
       "      <td>0</td>\n",
       "      <td>3</td>\n",
       "      <td>0</td>\n",
       "      <td>2</td>\n",
       "      <td>2</td>\n",
       "      <td>3</td>\n",
       "      <td>3</td>\n",
       "      <td>3</td>\n",
       "      <td>1</td>\n",
       "      <td>1</td>\n",
       "      <td>0</td>\n",
       "      <td>1</td>\n",
       "      <td>0</td>\n",
       "      <td>1</td>\n",
       "      <td>4</td>\n",
       "      <td>1</td>\n",
       "    </tr>\n",
       "    <tr>\n",
       "      <th>2</th>\n",
       "      <td>1</td>\n",
       "      <td>2</td>\n",
       "      <td>0</td>\n",
       "      <td>1</td>\n",
       "      <td>0</td>\n",
       "      <td>2</td>\n",
       "      <td>2</td>\n",
       "      <td>1</td>\n",
       "      <td>1</td>\n",
       "      <td>2</td>\n",
       "      <td>1</td>\n",
       "      <td>6</td>\n",
       "      <td>1</td>\n",
       "      <td>0</td>\n",
       "      <td>2</td>\n",
       "      <td>0</td>\n",
       "    </tr>\n",
       "    <tr>\n",
       "      <th>3</th>\n",
       "      <td>0</td>\n",
       "      <td>2</td>\n",
       "      <td>0</td>\n",
       "      <td>1</td>\n",
       "      <td>1</td>\n",
       "      <td>2</td>\n",
       "      <td>2</td>\n",
       "      <td>3</td>\n",
       "      <td>1</td>\n",
       "      <td>4</td>\n",
       "      <td>0</td>\n",
       "      <td>1</td>\n",
       "      <td>1</td>\n",
       "      <td>0</td>\n",
       "      <td>3</td>\n",
       "      <td>0</td>\n",
       "    </tr>\n",
       "    <tr>\n",
       "      <th>4</th>\n",
       "      <td>0</td>\n",
       "      <td>2</td>\n",
       "      <td>0</td>\n",
       "      <td>1</td>\n",
       "      <td>1</td>\n",
       "      <td>2</td>\n",
       "      <td>2</td>\n",
       "      <td>1</td>\n",
       "      <td>1</td>\n",
       "      <td>1</td>\n",
       "      <td>2</td>\n",
       "      <td>9</td>\n",
       "      <td>0</td>\n",
       "      <td>0</td>\n",
       "      <td>4</td>\n",
       "      <td>1</td>\n",
       "    </tr>\n",
       "  </tbody>\n",
       "</table>\n",
       "</div>"
      ],
      "text/plain": [
       "  Taken_product Yearly_avg_view_on_travel_page_code  \\\n",
       "0             1                                   3   \n",
       "1             0                                   3   \n",
       "2             1                                   2   \n",
       "3             0                                   2   \n",
       "4             0                                   2   \n",
       "\n",
       "  Daily_Avg_mins_spend_on_traveling_page_code  \\\n",
       "0                                           0   \n",
       "1                                           0   \n",
       "2                                           0   \n",
       "3                                           0   \n",
       "4                                           0   \n",
       "\n",
       "  montly_avg_comment_on_company_page_code  \\\n",
       "0                                       1   \n",
       "1                                       2   \n",
       "2                                       1   \n",
       "3                                       1   \n",
       "4                                       1   \n",
       "\n",
       "  total_likes_on_outofstation_checkin_received_code  \\\n",
       "0                                                 2   \n",
       "1                                                 2   \n",
       "2                                                 0   \n",
       "3                                                 1   \n",
       "4                                                 1   \n",
       "\n",
       "  Yearly_avg_comment_on_travel_page_code  \\\n",
       "0                                      3   \n",
       "1                                      3   \n",
       "2                                      2   \n",
       "3                                      2   \n",
       "4                                      2   \n",
       "\n",
       "  total_likes_on_outstation_checkin_given_code preferred_device  \\\n",
       "0                                            3                1   \n",
       "1                                            3                3   \n",
       "2                                            2                1   \n",
       "3                                            2                3   \n",
       "4                                            2                1   \n",
       "\n",
       "  yearly_avg_Outstation_checkins  member_in_family preferred_location_type  \\\n",
       "0                              1                 2                       0   \n",
       "1                              1                 1                       0   \n",
       "2                              1                 2                       1   \n",
       "3                              1                 4                       0   \n",
       "4                              1                 1                       2   \n",
       "\n",
       "   week_since_last_outstation_checkin following_company_page working_flag  \\\n",
       "0                                   8                      1            0   \n",
       "1                                   1                      0            1   \n",
       "2                                   6                      1            0   \n",
       "3                                   1                      1            0   \n",
       "4                                   9                      0            0   \n",
       "\n",
       "   travelling_network_rating  Adult_flag  \n",
       "0                          1           0  \n",
       "1                          4           1  \n",
       "2                          2           0  \n",
       "3                          3           0  \n",
       "4                          4           1  "
      ]
     },
     "execution_count": 976,
     "metadata": {},
     "output_type": "execute_result"
    }
   ],
   "source": [
    "df.head()"
   ]
  },
  {
   "cell_type": "code",
   "execution_count": 977,
   "metadata": {},
   "outputs": [
    {
     "data": {
      "text/html": [
       "<div>\n",
       "<style scoped>\n",
       "    .dataframe tbody tr th:only-of-type {\n",
       "        vertical-align: middle;\n",
       "    }\n",
       "\n",
       "    .dataframe tbody tr th {\n",
       "        vertical-align: top;\n",
       "    }\n",
       "\n",
       "    .dataframe thead th {\n",
       "        text-align: right;\n",
       "    }\n",
       "</style>\n",
       "<table border=\"1\" class=\"dataframe\">\n",
       "  <thead>\n",
       "    <tr style=\"text-align: right;\">\n",
       "      <th></th>\n",
       "      <th>Taken_product</th>\n",
       "      <th>Yearly_avg_view_on_travel_page_code</th>\n",
       "      <th>Daily_Avg_mins_spend_on_traveling_page_code</th>\n",
       "      <th>montly_avg_comment_on_company_page_code</th>\n",
       "      <th>total_likes_on_outofstation_checkin_received_code</th>\n",
       "      <th>Yearly_avg_comment_on_travel_page_code</th>\n",
       "      <th>total_likes_on_outstation_checkin_given_code</th>\n",
       "      <th>preferred_device</th>\n",
       "      <th>yearly_avg_Outstation_checkins</th>\n",
       "      <th>member_in_family</th>\n",
       "      <th>preferred_location_type</th>\n",
       "      <th>week_since_last_outstation_checkin</th>\n",
       "      <th>following_company_page</th>\n",
       "      <th>working_flag</th>\n",
       "      <th>travelling_network_rating</th>\n",
       "      <th>Adult_flag</th>\n",
       "    </tr>\n",
       "  </thead>\n",
       "  <tbody>\n",
       "    <tr>\n",
       "      <th>0</th>\n",
       "      <td>1</td>\n",
       "      <td>3</td>\n",
       "      <td>0</td>\n",
       "      <td>1</td>\n",
       "      <td>2</td>\n",
       "      <td>3</td>\n",
       "      <td>3</td>\n",
       "      <td>1</td>\n",
       "      <td>1</td>\n",
       "      <td>2</td>\n",
       "      <td>0</td>\n",
       "      <td>8</td>\n",
       "      <td>1</td>\n",
       "      <td>0</td>\n",
       "      <td>1</td>\n",
       "      <td>0</td>\n",
       "    </tr>\n",
       "    <tr>\n",
       "      <th>1</th>\n",
       "      <td>0</td>\n",
       "      <td>3</td>\n",
       "      <td>0</td>\n",
       "      <td>2</td>\n",
       "      <td>2</td>\n",
       "      <td>3</td>\n",
       "      <td>3</td>\n",
       "      <td>3</td>\n",
       "      <td>1</td>\n",
       "      <td>1</td>\n",
       "      <td>0</td>\n",
       "      <td>1</td>\n",
       "      <td>0</td>\n",
       "      <td>1</td>\n",
       "      <td>4</td>\n",
       "      <td>1</td>\n",
       "    </tr>\n",
       "    <tr>\n",
       "      <th>2</th>\n",
       "      <td>1</td>\n",
       "      <td>2</td>\n",
       "      <td>0</td>\n",
       "      <td>1</td>\n",
       "      <td>0</td>\n",
       "      <td>2</td>\n",
       "      <td>2</td>\n",
       "      <td>1</td>\n",
       "      <td>1</td>\n",
       "      <td>2</td>\n",
       "      <td>1</td>\n",
       "      <td>6</td>\n",
       "      <td>1</td>\n",
       "      <td>0</td>\n",
       "      <td>2</td>\n",
       "      <td>0</td>\n",
       "    </tr>\n",
       "    <tr>\n",
       "      <th>3</th>\n",
       "      <td>0</td>\n",
       "      <td>2</td>\n",
       "      <td>0</td>\n",
       "      <td>1</td>\n",
       "      <td>1</td>\n",
       "      <td>2</td>\n",
       "      <td>2</td>\n",
       "      <td>3</td>\n",
       "      <td>1</td>\n",
       "      <td>4</td>\n",
       "      <td>0</td>\n",
       "      <td>1</td>\n",
       "      <td>1</td>\n",
       "      <td>0</td>\n",
       "      <td>3</td>\n",
       "      <td>0</td>\n",
       "    </tr>\n",
       "    <tr>\n",
       "      <th>4</th>\n",
       "      <td>0</td>\n",
       "      <td>2</td>\n",
       "      <td>0</td>\n",
       "      <td>1</td>\n",
       "      <td>1</td>\n",
       "      <td>2</td>\n",
       "      <td>2</td>\n",
       "      <td>1</td>\n",
       "      <td>1</td>\n",
       "      <td>1</td>\n",
       "      <td>2</td>\n",
       "      <td>9</td>\n",
       "      <td>0</td>\n",
       "      <td>0</td>\n",
       "      <td>4</td>\n",
       "      <td>1</td>\n",
       "    </tr>\n",
       "  </tbody>\n",
       "</table>\n",
       "</div>"
      ],
      "text/plain": [
       "  Taken_product Yearly_avg_view_on_travel_page_code  \\\n",
       "0             1                                   3   \n",
       "1             0                                   3   \n",
       "2             1                                   2   \n",
       "3             0                                   2   \n",
       "4             0                                   2   \n",
       "\n",
       "  Daily_Avg_mins_spend_on_traveling_page_code  \\\n",
       "0                                           0   \n",
       "1                                           0   \n",
       "2                                           0   \n",
       "3                                           0   \n",
       "4                                           0   \n",
       "\n",
       "  montly_avg_comment_on_company_page_code  \\\n",
       "0                                       1   \n",
       "1                                       2   \n",
       "2                                       1   \n",
       "3                                       1   \n",
       "4                                       1   \n",
       "\n",
       "  total_likes_on_outofstation_checkin_received_code  \\\n",
       "0                                                 2   \n",
       "1                                                 2   \n",
       "2                                                 0   \n",
       "3                                                 1   \n",
       "4                                                 1   \n",
       "\n",
       "  Yearly_avg_comment_on_travel_page_code  \\\n",
       "0                                      3   \n",
       "1                                      3   \n",
       "2                                      2   \n",
       "3                                      2   \n",
       "4                                      2   \n",
       "\n",
       "  total_likes_on_outstation_checkin_given_code preferred_device  \\\n",
       "0                                            3                1   \n",
       "1                                            3                3   \n",
       "2                                            2                1   \n",
       "3                                            2                3   \n",
       "4                                            2                1   \n",
       "\n",
       "  yearly_avg_Outstation_checkins  member_in_family preferred_location_type  \\\n",
       "0                              1                 2                       0   \n",
       "1                              1                 1                       0   \n",
       "2                              1                 2                       1   \n",
       "3                              1                 4                       0   \n",
       "4                              1                 1                       2   \n",
       "\n",
       "   week_since_last_outstation_checkin following_company_page working_flag  \\\n",
       "0                                   8                      1            0   \n",
       "1                                   1                      0            1   \n",
       "2                                   6                      1            0   \n",
       "3                                   1                      1            0   \n",
       "4                                   9                      0            0   \n",
       "\n",
       "   travelling_network_rating  Adult_flag  \n",
       "0                          1           0  \n",
       "1                          4           1  \n",
       "2                          2           0  \n",
       "3                          3           0  \n",
       "4                          4           1  "
      ]
     },
     "execution_count": 977,
     "metadata": {},
     "output_type": "execute_result"
    }
   ],
   "source": [
    "df_1.head()"
   ]
  },
  {
   "cell_type": "code",
   "execution_count": 978,
   "metadata": {},
   "outputs": [
    {
     "data": {
      "text/html": [
       "<div>\n",
       "<style scoped>\n",
       "    .dataframe tbody tr th:only-of-type {\n",
       "        vertical-align: middle;\n",
       "    }\n",
       "\n",
       "    .dataframe tbody tr th {\n",
       "        vertical-align: top;\n",
       "    }\n",
       "\n",
       "    .dataframe thead th {\n",
       "        text-align: right;\n",
       "    }\n",
       "</style>\n",
       "<table border=\"1\" class=\"dataframe\">\n",
       "  <thead>\n",
       "    <tr style=\"text-align: right;\">\n",
       "      <th></th>\n",
       "      <th>Taken_product</th>\n",
       "      <th>Yearly_avg_view_on_travel_page_code</th>\n",
       "      <th>Daily_Avg_mins_spend_on_traveling_page_code</th>\n",
       "      <th>montly_avg_comment_on_company_page_code</th>\n",
       "      <th>total_likes_on_outofstation_checkin_received_code</th>\n",
       "      <th>Yearly_avg_comment_on_travel_page_code</th>\n",
       "      <th>total_likes_on_outstation_checkin_given_code</th>\n",
       "      <th>preferred_device</th>\n",
       "      <th>yearly_avg_Outstation_checkins</th>\n",
       "      <th>member_in_family</th>\n",
       "      <th>preferred_location_type</th>\n",
       "      <th>week_since_last_outstation_checkin</th>\n",
       "      <th>following_company_page</th>\n",
       "      <th>working_flag</th>\n",
       "      <th>travelling_network_rating</th>\n",
       "      <th>Adult_flag</th>\n",
       "    </tr>\n",
       "  </thead>\n",
       "  <tbody>\n",
       "    <tr>\n",
       "      <th>4577</th>\n",
       "      <td>0</td>\n",
       "      <td>3</td>\n",
       "      <td>0</td>\n",
       "      <td>3</td>\n",
       "      <td>2</td>\n",
       "      <td>3</td>\n",
       "      <td>3</td>\n",
       "      <td>2</td>\n",
       "      <td>8</td>\n",
       "      <td>1</td>\n",
       "      <td>7</td>\n",
       "      <td>1</td>\n",
       "      <td>0</td>\n",
       "      <td>1</td>\n",
       "      <td>4</td>\n",
       "      <td>1</td>\n",
       "    </tr>\n",
       "    <tr>\n",
       "      <th>4579</th>\n",
       "      <td>0</td>\n",
       "      <td>2</td>\n",
       "      <td>0</td>\n",
       "      <td>1</td>\n",
       "      <td>1</td>\n",
       "      <td>2</td>\n",
       "      <td>2</td>\n",
       "      <td>2</td>\n",
       "      <td>3</td>\n",
       "      <td>4</td>\n",
       "      <td>7</td>\n",
       "      <td>1</td>\n",
       "      <td>1</td>\n",
       "      <td>0</td>\n",
       "      <td>3</td>\n",
       "      <td>0</td>\n",
       "    </tr>\n",
       "    <tr>\n",
       "      <th>4581</th>\n",
       "      <td>0</td>\n",
       "      <td>2</td>\n",
       "      <td>0</td>\n",
       "      <td>2</td>\n",
       "      <td>1</td>\n",
       "      <td>2</td>\n",
       "      <td>2</td>\n",
       "      <td>2</td>\n",
       "      <td>2</td>\n",
       "      <td>2</td>\n",
       "      <td>7</td>\n",
       "      <td>0</td>\n",
       "      <td>0</td>\n",
       "      <td>0</td>\n",
       "      <td>3</td>\n",
       "      <td>0</td>\n",
       "    </tr>\n",
       "    <tr>\n",
       "      <th>4584</th>\n",
       "      <td>0</td>\n",
       "      <td>2</td>\n",
       "      <td>0</td>\n",
       "      <td>3</td>\n",
       "      <td>3</td>\n",
       "      <td>2</td>\n",
       "      <td>2</td>\n",
       "      <td>2</td>\n",
       "      <td>23</td>\n",
       "      <td>3</td>\n",
       "      <td>7</td>\n",
       "      <td>0</td>\n",
       "      <td>0</td>\n",
       "      <td>1</td>\n",
       "      <td>2</td>\n",
       "      <td>0</td>\n",
       "    </tr>\n",
       "    <tr>\n",
       "      <th>4602</th>\n",
       "      <td>1</td>\n",
       "      <td>2</td>\n",
       "      <td>0</td>\n",
       "      <td>3</td>\n",
       "      <td>1</td>\n",
       "      <td>2</td>\n",
       "      <td>2</td>\n",
       "      <td>2</td>\n",
       "      <td>16</td>\n",
       "      <td>1</td>\n",
       "      <td>7</td>\n",
       "      <td>1</td>\n",
       "      <td>1</td>\n",
       "      <td>1</td>\n",
       "      <td>2</td>\n",
       "      <td>0</td>\n",
       "    </tr>\n",
       "  </tbody>\n",
       "</table>\n",
       "</div>"
      ],
      "text/plain": [
       "     Taken_product Yearly_avg_view_on_travel_page_code  \\\n",
       "4577             0                                   3   \n",
       "4579             0                                   2   \n",
       "4581             0                                   2   \n",
       "4584             0                                   2   \n",
       "4602             1                                   2   \n",
       "\n",
       "     Daily_Avg_mins_spend_on_traveling_page_code  \\\n",
       "4577                                           0   \n",
       "4579                                           0   \n",
       "4581                                           0   \n",
       "4584                                           0   \n",
       "4602                                           0   \n",
       "\n",
       "     montly_avg_comment_on_company_page_code  \\\n",
       "4577                                       3   \n",
       "4579                                       1   \n",
       "4581                                       2   \n",
       "4584                                       3   \n",
       "4602                                       3   \n",
       "\n",
       "     total_likes_on_outofstation_checkin_received_code  \\\n",
       "4577                                                 2   \n",
       "4579                                                 1   \n",
       "4581                                                 1   \n",
       "4584                                                 3   \n",
       "4602                                                 1   \n",
       "\n",
       "     Yearly_avg_comment_on_travel_page_code  \\\n",
       "4577                                      3   \n",
       "4579                                      2   \n",
       "4581                                      2   \n",
       "4584                                      2   \n",
       "4602                                      2   \n",
       "\n",
       "     total_likes_on_outstation_checkin_given_code preferred_device  \\\n",
       "4577                                            3                2   \n",
       "4579                                            2                2   \n",
       "4581                                            2                2   \n",
       "4584                                            2                2   \n",
       "4602                                            2                2   \n",
       "\n",
       "     yearly_avg_Outstation_checkins  member_in_family preferred_location_type  \\\n",
       "4577                              8                 1                       7   \n",
       "4579                              3                 4                       7   \n",
       "4581                              2                 2                       7   \n",
       "4584                             23                 3                       7   \n",
       "4602                             16                 1                       7   \n",
       "\n",
       "      week_since_last_outstation_checkin following_company_page working_flag  \\\n",
       "4577                                   1                      0            1   \n",
       "4579                                   1                      1            0   \n",
       "4581                                   0                      0            0   \n",
       "4584                                   0                      0            1   \n",
       "4602                                   1                      1            1   \n",
       "\n",
       "      travelling_network_rating  Adult_flag  \n",
       "4577                          4           1  \n",
       "4579                          3           0  \n",
       "4581                          3           0  \n",
       "4584                          2           0  \n",
       "4602                          2           0  "
      ]
     },
     "execution_count": 978,
     "metadata": {},
     "output_type": "execute_result"
    }
   ],
   "source": [
    "df_2.head()"
   ]
  },
  {
   "cell_type": "code",
   "execution_count": 979,
   "metadata": {},
   "outputs": [
    {
     "name": "stderr",
     "output_type": "stream",
     "text": [
      "C:\\Users\\siddd\\Anaconda3\\lib\\site-packages\\pandas\\core\\frame.py:4163: SettingWithCopyWarning: \n",
      "A value is trying to be set on a copy of a slice from a DataFrame\n",
      "\n",
      "See the caveats in the documentation: https://pandas.pydata.org/pandas-docs/stable/user_guide/indexing.html#returning-a-view-versus-a-copy\n",
      "  return super().drop(\n"
     ]
    }
   ],
   "source": [
    "df_2.drop(\"preferred_device\",axis=1,inplace=True)"
   ]
  },
  {
   "cell_type": "code",
   "execution_count": 980,
   "metadata": {},
   "outputs": [
    {
     "data": {
      "text/html": [
       "<div>\n",
       "<style scoped>\n",
       "    .dataframe tbody tr th:only-of-type {\n",
       "        vertical-align: middle;\n",
       "    }\n",
       "\n",
       "    .dataframe tbody tr th {\n",
       "        vertical-align: top;\n",
       "    }\n",
       "\n",
       "    .dataframe thead th {\n",
       "        text-align: right;\n",
       "    }\n",
       "</style>\n",
       "<table border=\"1\" class=\"dataframe\">\n",
       "  <thead>\n",
       "    <tr style=\"text-align: right;\">\n",
       "      <th></th>\n",
       "      <th>Taken_product</th>\n",
       "      <th>Yearly_avg_view_on_travel_page_code</th>\n",
       "      <th>Daily_Avg_mins_spend_on_traveling_page_code</th>\n",
       "      <th>montly_avg_comment_on_company_page_code</th>\n",
       "      <th>total_likes_on_outofstation_checkin_received_code</th>\n",
       "      <th>Yearly_avg_comment_on_travel_page_code</th>\n",
       "      <th>total_likes_on_outstation_checkin_given_code</th>\n",
       "      <th>yearly_avg_Outstation_checkins</th>\n",
       "      <th>member_in_family</th>\n",
       "      <th>preferred_location_type</th>\n",
       "      <th>week_since_last_outstation_checkin</th>\n",
       "      <th>following_company_page</th>\n",
       "      <th>working_flag</th>\n",
       "      <th>travelling_network_rating</th>\n",
       "      <th>Adult_flag</th>\n",
       "    </tr>\n",
       "  </thead>\n",
       "  <tbody>\n",
       "    <tr>\n",
       "      <th>4577</th>\n",
       "      <td>0</td>\n",
       "      <td>3</td>\n",
       "      <td>0</td>\n",
       "      <td>3</td>\n",
       "      <td>2</td>\n",
       "      <td>3</td>\n",
       "      <td>3</td>\n",
       "      <td>8</td>\n",
       "      <td>1</td>\n",
       "      <td>7</td>\n",
       "      <td>1</td>\n",
       "      <td>0</td>\n",
       "      <td>1</td>\n",
       "      <td>4</td>\n",
       "      <td>1</td>\n",
       "    </tr>\n",
       "    <tr>\n",
       "      <th>4579</th>\n",
       "      <td>0</td>\n",
       "      <td>2</td>\n",
       "      <td>0</td>\n",
       "      <td>1</td>\n",
       "      <td>1</td>\n",
       "      <td>2</td>\n",
       "      <td>2</td>\n",
       "      <td>3</td>\n",
       "      <td>4</td>\n",
       "      <td>7</td>\n",
       "      <td>1</td>\n",
       "      <td>1</td>\n",
       "      <td>0</td>\n",
       "      <td>3</td>\n",
       "      <td>0</td>\n",
       "    </tr>\n",
       "    <tr>\n",
       "      <th>4581</th>\n",
       "      <td>0</td>\n",
       "      <td>2</td>\n",
       "      <td>0</td>\n",
       "      <td>2</td>\n",
       "      <td>1</td>\n",
       "      <td>2</td>\n",
       "      <td>2</td>\n",
       "      <td>2</td>\n",
       "      <td>2</td>\n",
       "      <td>7</td>\n",
       "      <td>0</td>\n",
       "      <td>0</td>\n",
       "      <td>0</td>\n",
       "      <td>3</td>\n",
       "      <td>0</td>\n",
       "    </tr>\n",
       "    <tr>\n",
       "      <th>4584</th>\n",
       "      <td>0</td>\n",
       "      <td>2</td>\n",
       "      <td>0</td>\n",
       "      <td>3</td>\n",
       "      <td>3</td>\n",
       "      <td>2</td>\n",
       "      <td>2</td>\n",
       "      <td>23</td>\n",
       "      <td>3</td>\n",
       "      <td>7</td>\n",
       "      <td>0</td>\n",
       "      <td>0</td>\n",
       "      <td>1</td>\n",
       "      <td>2</td>\n",
       "      <td>0</td>\n",
       "    </tr>\n",
       "    <tr>\n",
       "      <th>4602</th>\n",
       "      <td>1</td>\n",
       "      <td>2</td>\n",
       "      <td>0</td>\n",
       "      <td>3</td>\n",
       "      <td>1</td>\n",
       "      <td>2</td>\n",
       "      <td>2</td>\n",
       "      <td>16</td>\n",
       "      <td>1</td>\n",
       "      <td>7</td>\n",
       "      <td>1</td>\n",
       "      <td>1</td>\n",
       "      <td>1</td>\n",
       "      <td>2</td>\n",
       "      <td>0</td>\n",
       "    </tr>\n",
       "  </tbody>\n",
       "</table>\n",
       "</div>"
      ],
      "text/plain": [
       "     Taken_product Yearly_avg_view_on_travel_page_code  \\\n",
       "4577             0                                   3   \n",
       "4579             0                                   2   \n",
       "4581             0                                   2   \n",
       "4584             0                                   2   \n",
       "4602             1                                   2   \n",
       "\n",
       "     Daily_Avg_mins_spend_on_traveling_page_code  \\\n",
       "4577                                           0   \n",
       "4579                                           0   \n",
       "4581                                           0   \n",
       "4584                                           0   \n",
       "4602                                           0   \n",
       "\n",
       "     montly_avg_comment_on_company_page_code  \\\n",
       "4577                                       3   \n",
       "4579                                       1   \n",
       "4581                                       2   \n",
       "4584                                       3   \n",
       "4602                                       3   \n",
       "\n",
       "     total_likes_on_outofstation_checkin_received_code  \\\n",
       "4577                                                 2   \n",
       "4579                                                 1   \n",
       "4581                                                 1   \n",
       "4584                                                 3   \n",
       "4602                                                 1   \n",
       "\n",
       "     Yearly_avg_comment_on_travel_page_code  \\\n",
       "4577                                      3   \n",
       "4579                                      2   \n",
       "4581                                      2   \n",
       "4584                                      2   \n",
       "4602                                      2   \n",
       "\n",
       "     total_likes_on_outstation_checkin_given_code  \\\n",
       "4577                                            3   \n",
       "4579                                            2   \n",
       "4581                                            2   \n",
       "4584                                            2   \n",
       "4602                                            2   \n",
       "\n",
       "     yearly_avg_Outstation_checkins  member_in_family preferred_location_type  \\\n",
       "4577                              8                 1                       7   \n",
       "4579                              3                 4                       7   \n",
       "4581                              2                 2                       7   \n",
       "4584                             23                 3                       7   \n",
       "4602                             16                 1                       7   \n",
       "\n",
       "      week_since_last_outstation_checkin following_company_page working_flag  \\\n",
       "4577                                   1                      0            1   \n",
       "4579                                   1                      1            0   \n",
       "4581                                   0                      0            0   \n",
       "4584                                   0                      0            1   \n",
       "4602                                   1                      1            1   \n",
       "\n",
       "      travelling_network_rating  Adult_flag  \n",
       "4577                          4           1  \n",
       "4579                          3           0  \n",
       "4581                          3           0  \n",
       "4584                          2           0  \n",
       "4602                          2           0  "
      ]
     },
     "execution_count": 980,
     "metadata": {},
     "output_type": "execute_result"
    }
   ],
   "source": [
    "df_2.head()"
   ]
  },
  {
   "cell_type": "code",
   "execution_count": 981,
   "metadata": {},
   "outputs": [
    {
     "name": "stdout",
     "output_type": "stream",
     "text": [
      "<class 'pandas.core.frame.DataFrame'>\n",
      "Int64Index: 10455 entries, 0 to 10455\n",
      "Data columns (total 16 columns):\n",
      " #   Column                                             Non-Null Count  Dtype   \n",
      "---  ------                                             --------------  -----   \n",
      " 0   Taken_product                                      10455 non-null  object  \n",
      " 1   Yearly_avg_view_on_travel_page_code                10455 non-null  category\n",
      " 2   Daily_Avg_mins_spend_on_traveling_page_code        10455 non-null  category\n",
      " 3   montly_avg_comment_on_company_page_code            10455 non-null  category\n",
      " 4   total_likes_on_outofstation_checkin_received_code  10455 non-null  category\n",
      " 5   Yearly_avg_comment_on_travel_page_code             10455 non-null  category\n",
      " 6   total_likes_on_outstation_checkin_given_code       10455 non-null  category\n",
      " 7   preferred_device                                   10455 non-null  object  \n",
      " 8   yearly_avg_Outstation_checkins                     10455 non-null  object  \n",
      " 9   member_in_family                                   10455 non-null  int64   \n",
      " 10  preferred_location_type                            10455 non-null  object  \n",
      " 11  week_since_last_outstation_checkin                 10455 non-null  int64   \n",
      " 12  following_company_page                             10455 non-null  object  \n",
      " 13  working_flag                                       10455 non-null  object  \n",
      " 14  travelling_network_rating                          10455 non-null  int64   \n",
      " 15  Adult_flag                                         10455 non-null  int64   \n",
      "dtypes: category(6), int64(4), object(6)\n",
      "memory usage: 961.1+ KB\n"
     ]
    }
   ],
   "source": [
    "df.info()"
   ]
  },
  {
   "cell_type": "code",
   "execution_count": 984,
   "metadata": {},
   "outputs": [
    {
     "data": {
      "text/plain": [
       "array(['8', '3', '2', '23', '16', '1', '5', '18', '29', '11', '6', '7',\n",
       "       '26', '28', '12', '9', '10', '20', '4', '24', '21', '17', '19',\n",
       "       '15', '27', '25', '22', '13', '14'], dtype=object)"
      ]
     },
     "execution_count": 984,
     "metadata": {},
     "output_type": "execute_result"
    }
   ],
   "source": [
    "df_2['yearly_avg_Outstation_checkins'].unique()"
   ]
  },
  {
   "cell_type": "code",
   "execution_count": 988,
   "metadata": {},
   "outputs": [],
   "source": [
    "df_1.to_csv('capstone_mobile.csv', index=False)"
   ]
  },
  {
   "cell_type": "code",
   "execution_count": 989,
   "metadata": {},
   "outputs": [],
   "source": [
    "df_2.to_csv('capstone_laptop.csv', index=False)"
   ]
  },
  {
   "cell_type": "code",
   "execution_count": 992,
   "metadata": {},
   "outputs": [
    {
     "data": {
      "text/plain": [
       "(9347, 16)"
      ]
     },
     "execution_count": 992,
     "metadata": {},
     "output_type": "execute_result"
    }
   ],
   "source": [
    "df_1.shape"
   ]
  },
  {
   "cell_type": "code",
   "execution_count": 993,
   "metadata": {},
   "outputs": [
    {
     "data": {
      "text/plain": [
       "(1108, 15)"
      ]
     },
     "execution_count": 993,
     "metadata": {},
     "output_type": "execute_result"
    }
   ],
   "source": [
    "df_2.shape"
   ]
  },
  {
   "cell_type": "code",
   "execution_count": null,
   "metadata": {},
   "outputs": [],
   "source": []
  },
  {
   "cell_type": "code",
   "execution_count": null,
   "metadata": {},
   "outputs": [],
   "source": []
  }
 ],
 "metadata": {
  "kernelspec": {
   "display_name": "Python 3",
   "language": "python",
   "name": "python3"
  },
  "language_info": {
   "codemirror_mode": {
    "name": "ipython",
    "version": 3
   },
   "file_extension": ".py",
   "mimetype": "text/x-python",
   "name": "python",
   "nbconvert_exporter": "python",
   "pygments_lexer": "ipython3",
   "version": "3.8.5"
  }
 },
 "nbformat": 4,
 "nbformat_minor": 4
}
